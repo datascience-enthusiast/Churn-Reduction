{
 "cells": [
  {
   "cell_type": "code",
   "execution_count": 167,
   "metadata": {},
   "outputs": [],
   "source": [
    "#Load libraries\n",
    "import os\n",
    "import pandas as pd\n",
    "import numpy as np\n",
    "from fancyimpute import KNN   \n",
    "import matplotlib.pyplot as plt\n",
    "from scipy.stats import chi2_contingency\n",
    "import seaborn as sns\n",
    "from random import randrange, uniform"
   ]
  },
  {
   "cell_type": "code",
   "execution_count": 317,
   "metadata": {},
   "outputs": [
    {
     "data": {
      "text/plain": [
       "'C:\\\\Users\\\\admin\\\\Documents\\\\Python Files'"
      ]
     },
     "execution_count": 317,
     "metadata": {},
     "output_type": "execute_result"
    }
   ],
   "source": [
    "os.chdir('C:/Users/admin/Documents/Python Files')\n",
    "os.getcwd()"
   ]
  },
  {
   "cell_type": "code",
   "execution_count": 318,
   "metadata": {},
   "outputs": [
    {
     "data": {
      "text/html": [
       "<div>\n",
       "<style scoped>\n",
       "    .dataframe tbody tr th:only-of-type {\n",
       "        vertical-align: middle;\n",
       "    }\n",
       "\n",
       "    .dataframe tbody tr th {\n",
       "        vertical-align: top;\n",
       "    }\n",
       "\n",
       "    .dataframe thead th {\n",
       "        text-align: right;\n",
       "    }\n",
       "</style>\n",
       "<table border=\"1\" class=\"dataframe\">\n",
       "  <thead>\n",
       "    <tr style=\"text-align: right;\">\n",
       "      <th></th>\n",
       "      <th>state</th>\n",
       "      <th>account length</th>\n",
       "      <th>area code</th>\n",
       "      <th>phone number</th>\n",
       "      <th>international plan</th>\n",
       "      <th>voice mail plan</th>\n",
       "      <th>number vmail messages</th>\n",
       "      <th>total day minutes</th>\n",
       "      <th>total day calls</th>\n",
       "      <th>total day charge</th>\n",
       "      <th>...</th>\n",
       "      <th>total eve calls</th>\n",
       "      <th>total eve charge</th>\n",
       "      <th>total night minutes</th>\n",
       "      <th>total night calls</th>\n",
       "      <th>total night charge</th>\n",
       "      <th>total intl minutes</th>\n",
       "      <th>total intl calls</th>\n",
       "      <th>total intl charge</th>\n",
       "      <th>number customer service calls</th>\n",
       "      <th>Churn</th>\n",
       "    </tr>\n",
       "  </thead>\n",
       "  <tbody>\n",
       "    <tr>\n",
       "      <th>0</th>\n",
       "      <td>KS</td>\n",
       "      <td>128</td>\n",
       "      <td>415</td>\n",
       "      <td>382-4657</td>\n",
       "      <td>no</td>\n",
       "      <td>yes</td>\n",
       "      <td>25</td>\n",
       "      <td>265.1</td>\n",
       "      <td>110</td>\n",
       "      <td>45.07</td>\n",
       "      <td>...</td>\n",
       "      <td>99</td>\n",
       "      <td>16.78</td>\n",
       "      <td>244.7</td>\n",
       "      <td>91</td>\n",
       "      <td>11.01</td>\n",
       "      <td>10.0</td>\n",
       "      <td>3</td>\n",
       "      <td>2.70</td>\n",
       "      <td>1</td>\n",
       "      <td>False.</td>\n",
       "    </tr>\n",
       "    <tr>\n",
       "      <th>1</th>\n",
       "      <td>OH</td>\n",
       "      <td>107</td>\n",
       "      <td>415</td>\n",
       "      <td>371-7191</td>\n",
       "      <td>no</td>\n",
       "      <td>yes</td>\n",
       "      <td>26</td>\n",
       "      <td>161.6</td>\n",
       "      <td>123</td>\n",
       "      <td>27.47</td>\n",
       "      <td>...</td>\n",
       "      <td>103</td>\n",
       "      <td>16.62</td>\n",
       "      <td>254.4</td>\n",
       "      <td>103</td>\n",
       "      <td>11.45</td>\n",
       "      <td>13.7</td>\n",
       "      <td>3</td>\n",
       "      <td>3.70</td>\n",
       "      <td>1</td>\n",
       "      <td>False.</td>\n",
       "    </tr>\n",
       "    <tr>\n",
       "      <th>2</th>\n",
       "      <td>NJ</td>\n",
       "      <td>137</td>\n",
       "      <td>415</td>\n",
       "      <td>358-1921</td>\n",
       "      <td>no</td>\n",
       "      <td>no</td>\n",
       "      <td>0</td>\n",
       "      <td>243.4</td>\n",
       "      <td>114</td>\n",
       "      <td>41.38</td>\n",
       "      <td>...</td>\n",
       "      <td>110</td>\n",
       "      <td>10.30</td>\n",
       "      <td>162.6</td>\n",
       "      <td>104</td>\n",
       "      <td>7.32</td>\n",
       "      <td>12.2</td>\n",
       "      <td>5</td>\n",
       "      <td>3.29</td>\n",
       "      <td>0</td>\n",
       "      <td>False.</td>\n",
       "    </tr>\n",
       "    <tr>\n",
       "      <th>3</th>\n",
       "      <td>OH</td>\n",
       "      <td>84</td>\n",
       "      <td>408</td>\n",
       "      <td>375-9999</td>\n",
       "      <td>yes</td>\n",
       "      <td>no</td>\n",
       "      <td>0</td>\n",
       "      <td>299.4</td>\n",
       "      <td>71</td>\n",
       "      <td>50.90</td>\n",
       "      <td>...</td>\n",
       "      <td>88</td>\n",
       "      <td>5.26</td>\n",
       "      <td>196.9</td>\n",
       "      <td>89</td>\n",
       "      <td>8.86</td>\n",
       "      <td>6.6</td>\n",
       "      <td>7</td>\n",
       "      <td>1.78</td>\n",
       "      <td>2</td>\n",
       "      <td>False.</td>\n",
       "    </tr>\n",
       "    <tr>\n",
       "      <th>4</th>\n",
       "      <td>OK</td>\n",
       "      <td>75</td>\n",
       "      <td>415</td>\n",
       "      <td>330-6626</td>\n",
       "      <td>yes</td>\n",
       "      <td>no</td>\n",
       "      <td>0</td>\n",
       "      <td>166.7</td>\n",
       "      <td>113</td>\n",
       "      <td>28.34</td>\n",
       "      <td>...</td>\n",
       "      <td>122</td>\n",
       "      <td>12.61</td>\n",
       "      <td>186.9</td>\n",
       "      <td>121</td>\n",
       "      <td>8.41</td>\n",
       "      <td>10.1</td>\n",
       "      <td>3</td>\n",
       "      <td>2.73</td>\n",
       "      <td>3</td>\n",
       "      <td>False.</td>\n",
       "    </tr>\n",
       "  </tbody>\n",
       "</table>\n",
       "<p>5 rows × 21 columns</p>\n",
       "</div>"
      ],
      "text/plain": [
       "  state  account length  area code phone number international plan  \\\n",
       "0    KS             128        415     382-4657                 no   \n",
       "1    OH             107        415     371-7191                 no   \n",
       "2    NJ             137        415     358-1921                 no   \n",
       "3    OH              84        408     375-9999                yes   \n",
       "4    OK              75        415     330-6626                yes   \n",
       "\n",
       "  voice mail plan  number vmail messages  total day minutes  total day calls  \\\n",
       "0             yes                     25              265.1              110   \n",
       "1             yes                     26              161.6              123   \n",
       "2              no                      0              243.4              114   \n",
       "3              no                      0              299.4               71   \n",
       "4              no                      0              166.7              113   \n",
       "\n",
       "   total day charge  ...  total eve calls  total eve charge  \\\n",
       "0             45.07  ...               99             16.78   \n",
       "1             27.47  ...              103             16.62   \n",
       "2             41.38  ...              110             10.30   \n",
       "3             50.90  ...               88              5.26   \n",
       "4             28.34  ...              122             12.61   \n",
       "\n",
       "   total night minutes  total night calls  total night charge  \\\n",
       "0                244.7                 91               11.01   \n",
       "1                254.4                103               11.45   \n",
       "2                162.6                104                7.32   \n",
       "3                196.9                 89                8.86   \n",
       "4                186.9                121                8.41   \n",
       "\n",
       "   total intl minutes  total intl calls  total intl charge  \\\n",
       "0                10.0                 3               2.70   \n",
       "1                13.7                 3               3.70   \n",
       "2                12.2                 5               3.29   \n",
       "3                 6.6                 7               1.78   \n",
       "4                10.1                 3               2.73   \n",
       "\n",
       "   number customer service calls    Churn  \n",
       "0                              1   False.  \n",
       "1                              1   False.  \n",
       "2                              0   False.  \n",
       "3                              2   False.  \n",
       "4                              3   False.  \n",
       "\n",
       "[5 rows x 21 columns]"
      ]
     },
     "execution_count": 318,
     "metadata": {},
     "output_type": "execute_result"
    }
   ],
   "source": [
    "train = pd.read_csv('Train_data.csv')\n",
    "test = pd.read_csv(\"Test_data.csv\")\n",
    "train.head(5)"
   ]
  },
  {
   "cell_type": "code",
   "execution_count": 319,
   "metadata": {},
   "outputs": [
    {
     "data": {
      "text/plain": [
       "(5000, 21)"
      ]
     },
     "execution_count": 319,
     "metadata": {},
     "output_type": "execute_result"
    }
   ],
   "source": [
    "# comibining train and test so that it will be easier to preprocess it together than separate\n",
    "train=train.append(test)\n",
    "train.shape"
   ]
  },
  {
   "cell_type": "code",
   "execution_count": 320,
   "metadata": {},
   "outputs": [],
   "source": [
    "# Removing whitespaces in column names\n",
    "train.columns=train.columns.str.replace(' ','')"
   ]
  },
  {
   "cell_type": "markdown",
   "metadata": {},
   "source": [
    "# EDA analysis"
   ]
  },
  {
   "cell_type": "code",
   "execution_count": 321,
   "metadata": {},
   "outputs": [
    {
     "data": {
      "text/plain": [
       "Index(['state', 'accountlength', 'areacode', 'phonenumber',\n",
       "       'internationalplan', 'voicemailplan', 'numbervmailmessages',\n",
       "       'totaldayminutes', 'totaldaycalls', 'totaldaycharge', 'totaleveminutes',\n",
       "       'totalevecalls', 'totalevecharge', 'totalnightminutes',\n",
       "       'totalnightcalls', 'totalnightcharge', 'totalintlminutes',\n",
       "       'totalintlcalls', 'totalintlcharge', 'numbercustomerservicecalls',\n",
       "       'Churn'],\n",
       "      dtype='object')"
      ]
     },
     "execution_count": 321,
     "metadata": {},
     "output_type": "execute_result"
    }
   ],
   "source": [
    "train.columns"
   ]
  },
  {
   "cell_type": "code",
   "execution_count": 322,
   "metadata": {},
   "outputs": [],
   "source": [
    "# univariate analysis\n",
    "# converting area code to object data type\n",
    "train['areacode']=train['areacode'].astype('object')"
   ]
  },
  {
   "cell_type": "code",
   "execution_count": 323,
   "metadata": {},
   "outputs": [
    {
     "name": "stdout",
     "output_type": "stream",
     "text": [
      "<class 'pandas.core.frame.DataFrame'>\n",
      "Int64Index: 5000 entries, 0 to 1666\n",
      "Data columns (total 21 columns):\n",
      "state                         5000 non-null object\n",
      "accountlength                 5000 non-null int64\n",
      "areacode                      5000 non-null object\n",
      "phonenumber                   5000 non-null object\n",
      "internationalplan             5000 non-null object\n",
      "voicemailplan                 5000 non-null object\n",
      "numbervmailmessages           5000 non-null int64\n",
      "totaldayminutes               5000 non-null float64\n",
      "totaldaycalls                 5000 non-null int64\n",
      "totaldaycharge                5000 non-null float64\n",
      "totaleveminutes               5000 non-null float64\n",
      "totalevecalls                 5000 non-null int64\n",
      "totalevecharge                5000 non-null float64\n",
      "totalnightminutes             5000 non-null float64\n",
      "totalnightcalls               5000 non-null int64\n",
      "totalnightcharge              5000 non-null float64\n",
      "totalintlminutes              5000 non-null float64\n",
      "totalintlcalls                5000 non-null int64\n",
      "totalintlcharge               5000 non-null float64\n",
      "numbercustomerservicecalls    5000 non-null int64\n",
      "Churn                         5000 non-null object\n",
      "dtypes: float64(8), int64(7), object(6)\n",
      "memory usage: 859.4+ KB\n"
     ]
    }
   ],
   "source": [
    "train.info()"
   ]
  },
  {
   "cell_type": "code",
   "execution_count": 324,
   "metadata": {},
   "outputs": [
    {
     "name": "stdout",
     "output_type": "stream",
     "text": [
      " False.    0.8586\n",
      " True.     0.1414\n",
      "Name: Churn, dtype: float64\n"
     ]
    }
   ],
   "source": [
    "# Counting no. of True and false cases in Churn variable\n",
    "churn_class = train['Churn'].value_counts() #value_counts() gives count of classes\n",
    "# Proportion of true cases in Churn variable\n",
    "imbalance = churn_class/len(train.index)    #This is a case of class imbalance problem\n",
    "print(imbalance)"
   ]
  },
  {
   "cell_type": "markdown",
   "metadata": {},
   "source": [
    "# Data Visualization"
   ]
  },
  {
   "cell_type": "code",
   "execution_count": 325,
   "metadata": {},
   "outputs": [
    {
     "data": {
      "text/plain": [
       "<matplotlib.axes._subplots.AxesSubplot at 0x2d19abc9630>"
      ]
     },
     "execution_count": 325,
     "metadata": {},
     "output_type": "execute_result"
    },
    {
     "data": {
      "image/png": "[encoded data removed]",
      "text/plain": [
       "<Figure size 432x288 with 1 Axes>"
      ]
     },
     "metadata": {},
     "output_type": "display_data"
    }
   ],
   "source": [
    "Y = train[\"Churn\"].value_counts()\n",
    "sns.barplot(Y.index, Y.values)          #This is a case of class imbalance problem"
   ]
  },
  {
   "cell_type": "code",
   "execution_count": 345,
   "metadata": {
    "scrolled": true
   },
   "outputs": [
    {
     "data": {
      "text/plain": [
       "<matplotlib.axes._subplots.AxesSubplot at 0x2d19d952908>"
      ]
     },
     "execution_count": 345,
     "metadata": {},
     "output_type": "execute_result"
    },
    {
     "data": {
      "image/png": "[encoded data removed]",
      "text/plain": [
       "<Figure size 432x288 with 1 Axes>"
      ]
     },
     "metadata": {},
     "output_type": "display_data"
    }
   ],
   "source": [
    "# Visualization\n",
    "sns.barplot(x=\"Churn\", y=\"areacode\", data=train) # area code is not statistically significant"
   ]
  },
  {
   "cell_type": "code",
   "execution_count": 352,
   "metadata": {},
   "outputs": [
    {
     "data": {
      "text/plain": [
       "<matplotlib.axes._subplots.AxesSubplot at 0x2d19deb13c8>"
      ]
     },
     "execution_count": 352,
     "metadata": {},
     "output_type": "execute_result"
    },
    {
     "data": {
      "image/png": "[encoded data removed]",
      "text/plain": [
       "<Figure size 720x720 with 1 Axes>"
      ]
     },
     "metadata": {},
     "output_type": "display_data"
    }
   ],
   "source": [
    "# churning of customer w.r.t State\n",
    "state_vs_churn=pd.crosstab(data[\"state\"],data[\"Churn\"])\n",
    "# Visualization\n",
    "state_vs_churn.plot(kind=\"bar\", \n",
    "                 figsize=(10,10),\n",
    "                    stacked = True)"
   ]
  },
  {
   "cell_type": "code",
   "execution_count": 353,
   "metadata": {
    "scrolled": true
   },
   "outputs": [
    {
     "data": {
      "text/plain": [
       "<matplotlib.axes._subplots.AxesSubplot at 0x2d19de90f60>"
      ]
     },
     "execution_count": 353,
     "metadata": {},
     "output_type": "execute_result"
    },
    {
     "data": {
      "image/png": "[encoded data removed]",
      "text/plain": [
       "<Figure size 720x720 with 1 Axes>"
      ]
     },
     "metadata": {},
     "output_type": "display_data"
    }
   ],
   "source": [
    "# churning of customer w.r.t voice.mail.plan\n",
    "voicemailplan_vs_churn=pd.crosstab(data[\"voice mail plan\"],data[\"Churn\"])\n",
    "# Visualization\n",
    "voicemailplan_vs_churn.plot(kind=\"bar\", \n",
    "                 figsize=(10,10),\n",
    "                 stacked=True)"
   ]
  },
  {
   "cell_type": "code",
   "execution_count": 336,
   "metadata": {},
   "outputs": [
    {
     "data": {
      "text/plain": [
       "<matplotlib.axes._subplots.AxesSubplot at 0x2d19d3ebe48>"
      ]
     },
     "execution_count": 336,
     "metadata": {},
     "output_type": "execute_result"
    },
    {
     "data": {
      "image/png": "[encoded data removed]",
      "text/plain": [
       "<Figure size 576x576 with 1 Axes>"
      ]
     },
     "metadata": {},
     "output_type": "display_data"
    }
   ],
   "source": [
    "# churning of customer w.r.t international.plan\n",
    "intlplan_vs_churn=pd.crosstab(data[\"international plan\"],data[\"Churn\"])\n",
    "# Visualization\n",
    "intlplan_vs_churn.plot(kind=\"bar\", \n",
    "                 figsize=(8,8),\n",
    "                 stacked=True)"
   ]
  },
  {
   "cell_type": "code",
   "execution_count": 348,
   "metadata": {},
   "outputs": [
    {
     "data": {
      "text/plain": [
       "<matplotlib.axes._subplots.AxesSubplot at 0x2d19d9a3b38>"
      ]
     },
     "execution_count": 348,
     "metadata": {},
     "output_type": "execute_result"
    },
    {
     "data": {
      "image/png": "[encoded data removed]",
      "text/plain": [
       "<Figure size 432x288 with 1 Axes>"
      ]
     },
     "metadata": {},
     "output_type": "display_data"
    }
   ],
   "source": [
    "# churning of customer w.r.t number.customer.service.calls\n",
    "no_servicecall_vs_churn=pd.crosstab(data[\"number customer service calls\"],data[\"Churn\"])\n",
    "# Visualization\n",
    "sns.barplot(x=\"Churn\", y=\"numbercustomerservicecalls\", data=train)"
   ]
  },
  {
   "cell_type": "markdown",
   "metadata": {},
   "source": [
    "## Missing value Analysis"
   ]
  },
  {
   "cell_type": "code",
   "execution_count": 262,
   "metadata": {
    "scrolled": true
   },
   "outputs": [
    {
     "name": "stdout",
     "output_type": "stream",
     "text": [
      "                        Variables  missing percentage\n",
      "0                           state                   0\n",
      "1                  account length                   0\n",
      "2                       area code                   0\n",
      "3                    phone number                   0\n",
      "4              international plan                   0\n",
      "5                 voice mail plan                   0\n",
      "6           number vmail messages                   0\n",
      "7               total day minutes                   0\n",
      "8                 total day calls                   0\n",
      "9                total day charge                   0\n",
      "10              total eve minutes                   0\n",
      "11                total eve calls                   0\n",
      "12               total eve charge                   0\n",
      "13            total night minutes                   0\n",
      "14              total night calls                   0\n",
      "15             total night charge                   0\n",
      "16             total intl minutes                   0\n",
      "17               total intl calls                   0\n",
      "18              total intl charge                   0\n",
      "19  number customer service calls                   0\n",
      "20                          Churn                   0\n"
     ]
    }
   ],
   "source": [
    "# Checking missing values in dataframe\n",
    "missing_val = pd.DataFrame(data.isnull().sum())\n",
    "missing_val = missing_val.reset_index().rename(columns = {'index':'Variables',0:'missing percentage'})\n",
    "print(missing_val)\n",
    "# no missing value found"
   ]
  },
  {
   "cell_type": "markdown",
   "metadata": {},
   "source": [
    "# Outlier Analysis\n",
    " There are outliers in the data but after analyzing the data I came to a conclusion that there's no need to remove outliers "
   ]
  },
  {
   "cell_type": "code",
   "execution_count": 8,
   "metadata": {},
   "outputs": [
    {
     "data": {
      "image/png": "[encoded data removed]",
      "text/plain": [
       "<Figure size 432x288 with 1 Axes>"
      ]
     },
     "metadata": {},
     "output_type": "display_data"
    }
   ],
   "source": [
    "import matplotlib.pyplot as plt\n",
    "import seaborn as sns\n",
    "sns.set()\n",
    "_ = sns.boxplot(train['total day minutes'])\n",
    "plt.show()"
   ]
  },
  {
   "cell_type": "markdown",
   "metadata": {},
   "source": [
    "# # Feature Selection"
   ]
  },
  {
   "cell_type": "code",
   "execution_count": 263,
   "metadata": {},
   "outputs": [
    {
     "data": {
      "text/plain": [
       "Index(['accountlength', 'numbervmailmessages', 'totaldayminutes',\n",
       "       'totaldaycalls', 'totaldaycharge', 'totaleveminutes', 'totalevecalls',\n",
       "       'totalevecharge', 'totalnightminutes', 'totalnightcalls',\n",
       "       'totalnightcharge', 'totalintlminutes', 'totalintlcalls',\n",
       "       'totalintlcharge', 'numbercustomerservicecalls'],\n",
       "      dtype='object')"
      ]
     },
     "execution_count": 263,
     "metadata": {},
     "output_type": "execute_result"
    }
   ],
   "source": [
    "#let's separate continuous data from categorical data for feature selection\n",
    "num_columns=train.select_dtypes(exclude=['object'])\n",
    "numcol=num_columns.columns\n",
    "numcol"
   ]
  },
  {
   "cell_type": "code",
   "execution_count": 264,
   "metadata": {},
   "outputs": [],
   "source": [
    "# subsetting on continuous variables in df_corr\n",
    "df_corr = train.loc[:,numcol]"
   ]
  },
  {
   "cell_type": "code",
   "execution_count": 265,
   "metadata": {},
   "outputs": [],
   "source": [
    "# Correlation analysis\n",
    "# generating correlation matrix using .corr() built-in function\n",
    "corr = df_corr.corr()"
   ]
  },
  {
   "cell_type": "code",
   "execution_count": 266,
   "metadata": {},
   "outputs": [
    {
     "data": {
      "text/plain": [
       "<matplotlib.axes._subplots.AxesSubplot at 0x2d19651a080>"
      ]
     },
     "execution_count": 266,
     "metadata": {},
     "output_type": "execute_result"
    },
    {
     "data": {
      "image/png": "[encoded data removed]",
      "text/plain": [
       "<Figure size 504x360 with 2 Axes>"
      ]
     },
     "metadata": {},
     "output_type": "display_data"
    }
   ],
   "source": [
    "import matplotlib.pyplot as plt\n",
    "import seaborn as sns\n",
    "sns.set()\n",
    "#Set the width and hieght of the plot\n",
    "f, ax = plt.subplots(figsize=(7, 5))\n",
    "#Plotting correlation matrix using seaborn library\n",
    "sns.heatmap(corr, mask=np.zeros_like(corr, dtype=np.bool), cmap=sns.diverging_palette(220, 10, as_cmap=True),\n",
    "            square=True, ax=ax,linewidths=1 , linecolor= 'black')"
   ]
  },
  {
   "cell_type": "raw",
   "metadata": {},
   "source": [
    "# So we can see that in correlation plot dark red indicates that 2 variables are highly positively correlated with each other\n",
    "# here, total.day.minutes is highly correlated with total.day.charge\n",
    "#       total.eve.minutes is highly correlated with total.eve.charge\n",
    "#       total.night.minutes is highly correlated with total.night.charge\n",
    "#       total.intl.minutes is highly correlated with total.intl.charge\n",
    "# now instead of selecting all variables for our modelling, we would select one of each of them \n",
    "# lets select all charges features-total.day.charge, total.eve.charge, total.night.charge, total.intl.charge\n",
    "# and drop all minutes features-total.day.minutes, total.eve.minutes, total.night.minutes, total.intl.minutes\n",
    "# we will drop them after chi-sa=quare analysis"
   ]
  },
  {
   "cell_type": "code",
   "execution_count": 267,
   "metadata": {
    "scrolled": true
   },
   "outputs": [
    {
     "data": {
      "text/plain": [
       "['state', 'areacode', 'phonenumber', 'internationalplan', 'voicemailplan']"
      ]
     },
     "execution_count": 267,
     "metadata": {},
     "output_type": "execute_result"
    }
   ],
   "source": [
    "# Now Chi-square test of independence for Categorical data\n",
    "# As chi-square is only for categorical variables so we will select only categorical variables from training data\n",
    "catcol = train.columns[(train.dtypes==\"object\")]\n",
    "catcol = list(catcol)\n",
    "catcol.remove('Churn')\n",
    "catcol"
   ]
  },
  {
   "cell_type": "code",
   "execution_count": 268,
   "metadata": {},
   "outputs": [
    {
     "name": "stdout",
     "output_type": "stream",
     "text": [
      "state\n",
      "7.850836224371827e-05\n",
      "areacode\n",
      "0.7546581385329686\n",
      "phonenumber\n",
      "0.493350889587423\n",
      "internationalplan\n",
      "1.9443947474998577e-74\n",
      "voicemailplan\n",
      "7.164501780988496e-15\n"
     ]
    }
   ],
   "source": [
    "# Applying Chi-square test of independence for Categorical data\n",
    "for i in catcol:\n",
    "    print(i)\n",
    "    chi2, p, dof, ex = chi2_contingency(pd.crosstab(train['Churn'], train[i]))\n",
    "    print(p)"
   ]
  },
  {
   "cell_type": "raw",
   "metadata": {},
   "source": [
    "# If p-value is less than 0.05 then we reject the null hypothesis saying that 2 variables are dependent and if\n",
    "# p-value is greater than 0.05 then we accept the null hypothesis saying that 2 variables are independent. \n",
    "# If p-value<0.05 then select the variable, \n",
    "# If p-value>0.05 then ignore the variable as this independent variable doesn’t carry any information to explain the dependent variable therefore it will not add any information while modelling.  \n",
    "# after analyzing p value of all categorical features, we come to a conclusion that, feature- phone.number,area.code will be removed.\n",
    "# Since, we have to predict the churn score based on usage pattern.\n",
    "# so features which are not related to usage pattern will be removed from training data.\n",
    "# like 'accountlength' is not statistically significant so we will remove it.also we will drop state as it has many levels."
   ]
  },
  {
   "cell_type": "code",
   "execution_count": 269,
   "metadata": {},
   "outputs": [],
   "source": [
    "# Dimensionality Reduction \n",
    "train=train.drop(['state','totaldayminutes','totaleveminutes','totalnightminutes','totalintlminutes','accountlength','phonenumber','areacode'],axis=1)\n",
    "# axis = 1 for columns"
   ]
  },
  {
   "cell_type": "code",
   "execution_count": 270,
   "metadata": {
    "scrolled": true
   },
   "outputs": [
    {
     "data": {
      "text/html": [
       "<div>\n",
       "<style scoped>\n",
       "    .dataframe tbody tr th:only-of-type {\n",
       "        vertical-align: middle;\n",
       "    }\n",
       "\n",
       "    .dataframe tbody tr th {\n",
       "        vertical-align: top;\n",
       "    }\n",
       "\n",
       "    .dataframe thead th {\n",
       "        text-align: right;\n",
       "    }\n",
       "</style>\n",
       "<table border=\"1\" class=\"dataframe\">\n",
       "  <thead>\n",
       "    <tr style=\"text-align: right;\">\n",
       "      <th></th>\n",
       "      <th>state</th>\n",
       "      <th>internationalplan</th>\n",
       "      <th>voicemailplan</th>\n",
       "      <th>numbervmailmessages</th>\n",
       "      <th>totaldaycalls</th>\n",
       "      <th>totaldaycharge</th>\n",
       "      <th>totalevecalls</th>\n",
       "      <th>totalevecharge</th>\n",
       "      <th>totalnightcalls</th>\n",
       "      <th>totalnightcharge</th>\n",
       "      <th>totalintlcalls</th>\n",
       "      <th>totalintlcharge</th>\n",
       "      <th>numbercustomerservicecalls</th>\n",
       "      <th>Churn</th>\n",
       "    </tr>\n",
       "  </thead>\n",
       "  <tbody>\n",
       "    <tr>\n",
       "      <th>0</th>\n",
       "      <td>KS</td>\n",
       "      <td>no</td>\n",
       "      <td>yes</td>\n",
       "      <td>25</td>\n",
       "      <td>110</td>\n",
       "      <td>45.07</td>\n",
       "      <td>99</td>\n",
       "      <td>16.78</td>\n",
       "      <td>91</td>\n",
       "      <td>11.01</td>\n",
       "      <td>3</td>\n",
       "      <td>2.70</td>\n",
       "      <td>1</td>\n",
       "      <td>False.</td>\n",
       "    </tr>\n",
       "    <tr>\n",
       "      <th>1</th>\n",
       "      <td>OH</td>\n",
       "      <td>no</td>\n",
       "      <td>yes</td>\n",
       "      <td>26</td>\n",
       "      <td>123</td>\n",
       "      <td>27.47</td>\n",
       "      <td>103</td>\n",
       "      <td>16.62</td>\n",
       "      <td>103</td>\n",
       "      <td>11.45</td>\n",
       "      <td>3</td>\n",
       "      <td>3.70</td>\n",
       "      <td>1</td>\n",
       "      <td>False.</td>\n",
       "    </tr>\n",
       "    <tr>\n",
       "      <th>2</th>\n",
       "      <td>NJ</td>\n",
       "      <td>no</td>\n",
       "      <td>no</td>\n",
       "      <td>0</td>\n",
       "      <td>114</td>\n",
       "      <td>41.38</td>\n",
       "      <td>110</td>\n",
       "      <td>10.30</td>\n",
       "      <td>104</td>\n",
       "      <td>7.32</td>\n",
       "      <td>5</td>\n",
       "      <td>3.29</td>\n",
       "      <td>0</td>\n",
       "      <td>False.</td>\n",
       "    </tr>\n",
       "    <tr>\n",
       "      <th>3</th>\n",
       "      <td>OH</td>\n",
       "      <td>yes</td>\n",
       "      <td>no</td>\n",
       "      <td>0</td>\n",
       "      <td>71</td>\n",
       "      <td>50.90</td>\n",
       "      <td>88</td>\n",
       "      <td>5.26</td>\n",
       "      <td>89</td>\n",
       "      <td>8.86</td>\n",
       "      <td>7</td>\n",
       "      <td>1.78</td>\n",
       "      <td>2</td>\n",
       "      <td>False.</td>\n",
       "    </tr>\n",
       "    <tr>\n",
       "      <th>4</th>\n",
       "      <td>OK</td>\n",
       "      <td>yes</td>\n",
       "      <td>no</td>\n",
       "      <td>0</td>\n",
       "      <td>113</td>\n",
       "      <td>28.34</td>\n",
       "      <td>122</td>\n",
       "      <td>12.61</td>\n",
       "      <td>121</td>\n",
       "      <td>8.41</td>\n",
       "      <td>3</td>\n",
       "      <td>2.73</td>\n",
       "      <td>3</td>\n",
       "      <td>False.</td>\n",
       "    </tr>\n",
       "  </tbody>\n",
       "</table>\n",
       "</div>"
      ],
      "text/plain": [
       "  state internationalplan voicemailplan  numbervmailmessages  totaldaycalls  \\\n",
       "0    KS                no           yes                   25            110   \n",
       "1    OH                no           yes                   26            123   \n",
       "2    NJ                no            no                    0            114   \n",
       "3    OH               yes            no                    0             71   \n",
       "4    OK               yes            no                    0            113   \n",
       "\n",
       "   totaldaycharge  totalevecalls  totalevecharge  totalnightcalls  \\\n",
       "0           45.07             99           16.78               91   \n",
       "1           27.47            103           16.62              103   \n",
       "2           41.38            110           10.30              104   \n",
       "3           50.90             88            5.26               89   \n",
       "4           28.34            122           12.61              121   \n",
       "\n",
       "   totalnightcharge  totalintlcalls  totalintlcharge  \\\n",
       "0             11.01               3             2.70   \n",
       "1             11.45               3             3.70   \n",
       "2              7.32               5             3.29   \n",
       "3              8.86               7             1.78   \n",
       "4              8.41               3             2.73   \n",
       "\n",
       "   numbercustomerservicecalls    Churn  \n",
       "0                           1   False.  \n",
       "1                           1   False.  \n",
       "2                           0   False.  \n",
       "3                           2   False.  \n",
       "4                           3   False.  "
      ]
     },
     "execution_count": 270,
     "metadata": {},
     "output_type": "execute_result"
    }
   ],
   "source": [
    "train.head(5)"
   ]
  },
  {
   "cell_type": "raw",
   "metadata": {},
   "source": [
    "# we can see that there are factor variables, we need to convert them into numeric factor levels so as to save memory\n",
    "and it will be easier to feed them to ML algorithms "
   ]
  },
  {
   "cell_type": "code",
   "execution_count": 126,
   "metadata": {},
   "outputs": [],
   "source": [
    "# Converting our factor variables into numeric factor levels\n",
    "def cat_to_num(df):\n",
    "    for i in range(0, df.shape[1]):\n",
    "        #print(i)\n",
    "        if(df.iloc[:,i].dtypes == 'object'):\n",
    "            df.iloc[:,i] = pd.Categorical(df.iloc[:,i])\n",
    "            df.iloc[:,i] = df.iloc[:,i].cat.codes\n",
    "            df.iloc[:,i] = df.iloc[:,i].astype('object')\n",
    "    return df"
   ]
  },
  {
   "cell_type": "code",
   "execution_count": 271,
   "metadata": {
    "scrolled": true
   },
   "outputs": [
    {
     "data": {
      "text/html": [
       "<div>\n",
       "<style scoped>\n",
       "    .dataframe tbody tr th:only-of-type {\n",
       "        vertical-align: middle;\n",
       "    }\n",
       "\n",
       "    .dataframe tbody tr th {\n",
       "        vertical-align: top;\n",
       "    }\n",
       "\n",
       "    .dataframe thead th {\n",
       "        text-align: right;\n",
       "    }\n",
       "</style>\n",
       "<table border=\"1\" class=\"dataframe\">\n",
       "  <thead>\n",
       "    <tr style=\"text-align: right;\">\n",
       "      <th></th>\n",
       "      <th>state</th>\n",
       "      <th>internationalplan</th>\n",
       "      <th>voicemailplan</th>\n",
       "      <th>numbervmailmessages</th>\n",
       "      <th>totaldaycalls</th>\n",
       "      <th>totaldaycharge</th>\n",
       "      <th>totalevecalls</th>\n",
       "      <th>totalevecharge</th>\n",
       "      <th>totalnightcalls</th>\n",
       "      <th>totalnightcharge</th>\n",
       "      <th>totalintlcalls</th>\n",
       "      <th>totalintlcharge</th>\n",
       "      <th>numbercustomerservicecalls</th>\n",
       "      <th>Churn</th>\n",
       "    </tr>\n",
       "  </thead>\n",
       "  <tbody>\n",
       "    <tr>\n",
       "      <th>0</th>\n",
       "      <td>16</td>\n",
       "      <td>0</td>\n",
       "      <td>1</td>\n",
       "      <td>25</td>\n",
       "      <td>110</td>\n",
       "      <td>45.07</td>\n",
       "      <td>99</td>\n",
       "      <td>16.78</td>\n",
       "      <td>91</td>\n",
       "      <td>11.01</td>\n",
       "      <td>3</td>\n",
       "      <td>2.70</td>\n",
       "      <td>1</td>\n",
       "      <td>0</td>\n",
       "    </tr>\n",
       "    <tr>\n",
       "      <th>1</th>\n",
       "      <td>35</td>\n",
       "      <td>0</td>\n",
       "      <td>1</td>\n",
       "      <td>26</td>\n",
       "      <td>123</td>\n",
       "      <td>27.47</td>\n",
       "      <td>103</td>\n",
       "      <td>16.62</td>\n",
       "      <td>103</td>\n",
       "      <td>11.45</td>\n",
       "      <td>3</td>\n",
       "      <td>3.70</td>\n",
       "      <td>1</td>\n",
       "      <td>0</td>\n",
       "    </tr>\n",
       "    <tr>\n",
       "      <th>2</th>\n",
       "      <td>31</td>\n",
       "      <td>0</td>\n",
       "      <td>0</td>\n",
       "      <td>0</td>\n",
       "      <td>114</td>\n",
       "      <td>41.38</td>\n",
       "      <td>110</td>\n",
       "      <td>10.30</td>\n",
       "      <td>104</td>\n",
       "      <td>7.32</td>\n",
       "      <td>5</td>\n",
       "      <td>3.29</td>\n",
       "      <td>0</td>\n",
       "      <td>0</td>\n",
       "    </tr>\n",
       "    <tr>\n",
       "      <th>3</th>\n",
       "      <td>35</td>\n",
       "      <td>1</td>\n",
       "      <td>0</td>\n",
       "      <td>0</td>\n",
       "      <td>71</td>\n",
       "      <td>50.90</td>\n",
       "      <td>88</td>\n",
       "      <td>5.26</td>\n",
       "      <td>89</td>\n",
       "      <td>8.86</td>\n",
       "      <td>7</td>\n",
       "      <td>1.78</td>\n",
       "      <td>2</td>\n",
       "      <td>0</td>\n",
       "    </tr>\n",
       "    <tr>\n",
       "      <th>4</th>\n",
       "      <td>36</td>\n",
       "      <td>1</td>\n",
       "      <td>0</td>\n",
       "      <td>0</td>\n",
       "      <td>113</td>\n",
       "      <td>28.34</td>\n",
       "      <td>122</td>\n",
       "      <td>12.61</td>\n",
       "      <td>121</td>\n",
       "      <td>8.41</td>\n",
       "      <td>3</td>\n",
       "      <td>2.73</td>\n",
       "      <td>3</td>\n",
       "      <td>0</td>\n",
       "    </tr>\n",
       "  </tbody>\n",
       "</table>\n",
       "</div>"
      ],
      "text/plain": [
       "  state internationalplan voicemailplan  numbervmailmessages  totaldaycalls  \\\n",
       "0    16                 0             1                   25            110   \n",
       "1    35                 0             1                   26            123   \n",
       "2    31                 0             0                    0            114   \n",
       "3    35                 1             0                    0             71   \n",
       "4    36                 1             0                    0            113   \n",
       "\n",
       "   totaldaycharge  totalevecalls  totalevecharge  totalnightcalls  \\\n",
       "0           45.07             99           16.78               91   \n",
       "1           27.47            103           16.62              103   \n",
       "2           41.38            110           10.30              104   \n",
       "3           50.90             88            5.26               89   \n",
       "4           28.34            122           12.61              121   \n",
       "\n",
       "   totalnightcharge  totalintlcalls  totalintlcharge  \\\n",
       "0             11.01               3             2.70   \n",
       "1             11.45               3             3.70   \n",
       "2              7.32               5             3.29   \n",
       "3              8.86               7             1.78   \n",
       "4              8.41               3             2.73   \n",
       "\n",
       "   numbercustomerservicecalls Churn  \n",
       "0                           1     0  \n",
       "1                           1     0  \n",
       "2                           0     0  \n",
       "3                           2     0  \n",
       "4                           3     0  "
      ]
     },
     "execution_count": 271,
     "metadata": {},
     "output_type": "execute_result"
    }
   ],
   "source": [
    "_ = cat_to_num(train)\n",
    "train.head(5)"
   ]
  },
  {
   "cell_type": "code",
   "execution_count": 272,
   "metadata": {},
   "outputs": [
    {
     "data": {
      "text/plain": [
       "state                          object\n",
       "internationalplan              object\n",
       "voicemailplan                  object\n",
       "numbervmailmessages             int64\n",
       "totaldaycalls                   int64\n",
       "totaldaycharge                float64\n",
       "totalevecalls                   int64\n",
       "totalevecharge                float64\n",
       "totalnightcalls                 int64\n",
       "totalnightcharge              float64\n",
       "totalintlcalls                  int64\n",
       "totalintlcharge               float64\n",
       "numbercustomerservicecalls      int64\n",
       "Churn                          object\n",
       "dtype: object"
      ]
     },
     "execution_count": 272,
     "metadata": {},
     "output_type": "execute_result"
    }
   ],
   "source": [
    "train.dtypes"
   ]
  },
  {
   "cell_type": "code",
   "execution_count": 273,
   "metadata": {},
   "outputs": [
    {
     "name": "stdout",
     "output_type": "stream",
     "text": [
      "Index(['numbervmailmessages', 'totaldaycalls', 'totaldaycharge',\n",
      "       'totalevecalls', 'totalevecharge', 'totalnightcalls',\n",
      "       'totalnightcharge', 'totalintlcalls', 'totalintlcharge',\n",
      "       'numbercustomerservicecalls'],\n",
      "      dtype='object')\n",
      "Index(['state', 'internationalplan', 'voicemailplan', 'Churn'], dtype='object')\n"
     ]
    }
   ],
   "source": [
    "# Again select only numeric and only categorical variables separately from our new data\n",
    "num_columns=train.select_dtypes(exclude=['object'])\n",
    "numcol=num_columns.columns\n",
    "print(numcol)\n",
    "catcol = train.columns[(train.dtypes==\"object\")]\n",
    "print(catcol)"
   ]
  },
  {
   "cell_type": "markdown",
   "metadata": {},
   "source": [
    "# Feature Scaling"
   ]
  },
  {
   "cell_type": "code",
   "execution_count": 136,
   "metadata": {
    "scrolled": true
   },
   "outputs": [
    {
     "data": {
      "image/png": "[encoded data removed]",
      "text/plain": [
       "<Figure size 432x288 with 1 Axes>"
      ]
     },
     "metadata": {},
     "output_type": "display_data"
    },
    {
     "data": {
      "image/png": "[encoded data removed]",
      "text/plain": [
       "<Figure size 432x288 with 1 Axes>"
      ]
     },
     "metadata": {},
     "output_type": "display_data"
    },
    {
     "data": {
      "image/png": "[encoded data removed]",
      "text/plain": [
       "<Figure size 432x288 with 1 Axes>"
      ]
     },
     "metadata": {},
     "output_type": "display_data"
    },
    {
     "data": {
      "image/png": "[encoded data removed]",
      "text/plain": [
       "<Figure size 432x288 with 1 Axes>"
      ]
     },
     "metadata": {},
     "output_type": "display_data"
    },
    {
     "data": {
      "image/png": "[encoded data removed]",
      "text/plain": [
       "<Figure size 432x288 with 1 Axes>"
      ]
     },
     "metadata": {},
     "output_type": "display_data"
    },
    {
     "data": {
      "image/png": "[encoded data removed]",
      "text/plain": [
       "<Figure size 432x288 with 1 Axes>"
      ]
     },
     "metadata": {},
     "output_type": "display_data"
    },
    {
     "data": {
      "image/png": "[encoded data removed]",
      "text/plain": [
       "<Figure size 432x288 with 1 Axes>"
      ]
     },
     "metadata": {},
     "output_type": "display_data"
    },
    {
     "data": {
      "image/png": "[encoded data removed]",
      "text/plain": [
       "<Figure size 432x288 with 1 Axes>"
      ]
     },
     "metadata": {},
     "output_type": "display_data"
    },
    {
     "data": {
      "image/png": "[encoded data removed]",
      "text/plain": [
       "<Figure size 432x288 with 1 Axes>"
      ]
     },
     "metadata": {},
     "output_type": "display_data"
    },
    {
     "data": {
      "image/png": "[encoded data removed]",
      "text/plain": [
       "<Figure size 432x288 with 1 Axes>"
      ]
     },
     "metadata": {},
     "output_type": "display_data"
    }
   ],
   "source": [
    "for i in numcol:\n",
    "    sns.distplot(train[i],bins =50)\n",
    "    plt.title(\"Normal distribution Plot for \"+str(i))\n",
    "    plt.show()"
   ]
  },
  {
   "cell_type": "raw",
   "metadata": {},
   "source": [
    "numbervmailmessages- left skewed\n",
    "totaldaycalls- normal\n",
    "totaldaycharge- normal\n",
    "totalevecalls- normal\n",
    "totalevecharge- normal\n",
    "totalnightcalls- normal\n",
    "totalnightcharge- normal\n",
    "totalintlcalls- left skewed\n",
    "totalintlcharge- almost normal\n",
    "numbercustomersservicecalls- exibits multimodal distribution\n",
    "##we will go for standardization over normalization as our most of the data is distributed normally"
   ]
  },
  {
   "cell_type": "code",
   "execution_count": 274,
   "metadata": {},
   "outputs": [
    {
     "name": "stdout",
     "output_type": "stream",
     "text": [
      "numbervmailmessages\n",
      "totaldaycalls\n",
      "totaldaycharge\n",
      "totalevecalls\n",
      "totalevecharge\n",
      "totalnightcalls\n",
      "totalnightcharge\n",
      "totalintlcalls\n",
      "totalintlcharge\n",
      "numbercustomerservicecalls\n"
     ]
    }
   ],
   "source": [
    "# Standardization\n",
    "for i in numcol:\n",
    "    print(i)\n",
    "    train[i] = (train[i] - train[i].mean())/train[i].std()"
   ]
  },
  {
   "cell_type": "code",
   "execution_count": 275,
   "metadata": {},
   "outputs": [
    {
     "data": {
      "text/html": [
       "<div>\n",
       "<style scoped>\n",
       "    .dataframe tbody tr th:only-of-type {\n",
       "        vertical-align: middle;\n",
       "    }\n",
       "\n",
       "    .dataframe tbody tr th {\n",
       "        vertical-align: top;\n",
       "    }\n",
       "\n",
       "    .dataframe thead th {\n",
       "        text-align: right;\n",
       "    }\n",
       "</style>\n",
       "<table border=\"1\" class=\"dataframe\">\n",
       "  <thead>\n",
       "    <tr style=\"text-align: right;\">\n",
       "      <th></th>\n",
       "      <th>numbervmailmessages</th>\n",
       "      <th>totaldaycalls</th>\n",
       "      <th>totaldaycharge</th>\n",
       "      <th>totalevecalls</th>\n",
       "      <th>totalevecharge</th>\n",
       "      <th>totalnightcalls</th>\n",
       "      <th>totalnightcharge</th>\n",
       "      <th>totalintlcalls</th>\n",
       "      <th>totalintlcharge</th>\n",
       "      <th>numbercustomerservicecalls</th>\n",
       "    </tr>\n",
       "  </thead>\n",
       "  <tbody>\n",
       "    <tr>\n",
       "      <th>count</th>\n",
       "      <td>5.000000e+03</td>\n",
       "      <td>5.000000e+03</td>\n",
       "      <td>5.000000e+03</td>\n",
       "      <td>5.000000e+03</td>\n",
       "      <td>5.000000e+03</td>\n",
       "      <td>5.000000e+03</td>\n",
       "      <td>5.000000e+03</td>\n",
       "      <td>5.000000e+03</td>\n",
       "      <td>5.000000e+03</td>\n",
       "      <td>5.000000e+03</td>\n",
       "    </tr>\n",
       "    <tr>\n",
       "      <th>mean</th>\n",
       "      <td>5.969447e-16</td>\n",
       "      <td>2.180811e-16</td>\n",
       "      <td>-2.541500e-15</td>\n",
       "      <td>-1.266931e-16</td>\n",
       "      <td>-3.076650e-15</td>\n",
       "      <td>-1.446631e-16</td>\n",
       "      <td>-2.134724e-14</td>\n",
       "      <td>-1.159961e-16</td>\n",
       "      <td>2.229520e-14</td>\n",
       "      <td>-8.526513e-18</td>\n",
       "    </tr>\n",
       "    <tr>\n",
       "      <th>std</th>\n",
       "      <td>1.000000e+00</td>\n",
       "      <td>1.000000e+00</td>\n",
       "      <td>1.000000e+00</td>\n",
       "      <td>1.000000e+00</td>\n",
       "      <td>1.000000e+00</td>\n",
       "      <td>1.000000e+00</td>\n",
       "      <td>1.000000e+00</td>\n",
       "      <td>1.000000e+00</td>\n",
       "      <td>1.000000e+00</td>\n",
       "      <td>1.000000e+00</td>\n",
       "    </tr>\n",
       "    <tr>\n",
       "      <th>min</th>\n",
       "      <td>-5.724919e-01</td>\n",
       "      <td>-5.044042e+00</td>\n",
       "      <td>-3.345278e+00</td>\n",
       "      <td>-5.053389e+00</td>\n",
       "      <td>-3.969035e+00</td>\n",
       "      <td>-5.006302e+00</td>\n",
       "      <td>-3.965995e+00</td>\n",
       "      <td>-1.805284e+00</td>\n",
       "      <td>-3.717163e+00</td>\n",
       "      <td>-1.202116e+00</td>\n",
       "    </tr>\n",
       "    <tr>\n",
       "      <th>25%</th>\n",
       "      <td>-5.724919e-01</td>\n",
       "      <td>-6.570153e-01</td>\n",
       "      <td>-6.788497e-01</td>\n",
       "      <td>-6.653218e-01</td>\n",
       "      <td>-6.782472e-01</td>\n",
       "      <td>-6.472971e-01</td>\n",
       "      <td>-6.631000e-01</td>\n",
       "      <td>-5.841773e-01</td>\n",
       "      <td>-6.320420e-01</td>\n",
       "      <td>-4.366320e-01</td>\n",
       "    </tr>\n",
       "    <tr>\n",
       "      <th>50%</th>\n",
       "      <td>-5.724919e-01</td>\n",
       "      <td>-1.482513e-03</td>\n",
       "      <td>-3.238133e-03</td>\n",
       "      <td>-9.633573e-03</td>\n",
       "      <td>8.303305e-03</td>\n",
       "      <td>4.048363e-03</td>\n",
       "      <td>9.974656e-04</td>\n",
       "      <td>-1.771418e-01</td>\n",
       "      <td>1.180931e-02</td>\n",
       "      <td>-4.366320e-01</td>\n",
       "    </tr>\n",
       "    <tr>\n",
       "      <th>75%</th>\n",
       "      <td>6.824547e-01</td>\n",
       "      <td>6.540503e-01</td>\n",
       "      <td>6.658247e-01</td>\n",
       "      <td>6.964922e-01</td>\n",
       "      <td>6.622718e-01</td>\n",
       "      <td>6.553939e-01</td>\n",
       "      <td>6.782889e-01</td>\n",
       "      <td>6.369291e-01</td>\n",
       "      <td>6.288335e-01</td>\n",
       "      <td>3.288519e-01</td>\n",
       "    </tr>\n",
       "    <tr>\n",
       "      <th>max</th>\n",
       "      <td>3.266168e+00</td>\n",
       "      <td>3.276181e+00</td>\n",
       "      <td>3.177266e+00</td>\n",
       "      <td>3.520995e+00</td>\n",
       "      <td>3.224618e+00</td>\n",
       "      <td>3.761811e+00</td>\n",
       "      <td>3.849244e+00</td>\n",
       "      <td>6.335426e+00</td>\n",
       "      <td>3.526165e+00</td>\n",
       "      <td>5.687239e+00</td>\n",
       "    </tr>\n",
       "  </tbody>\n",
       "</table>\n",
       "</div>"
      ],
      "text/plain": [
       "       numbervmailmessages  totaldaycalls  totaldaycharge  totalevecalls  \\\n",
       "count         5.000000e+03   5.000000e+03    5.000000e+03   5.000000e+03   \n",
       "mean          5.969447e-16   2.180811e-16   -2.541500e-15  -1.266931e-16   \n",
       "std           1.000000e+00   1.000000e+00    1.000000e+00   1.000000e+00   \n",
       "min          -5.724919e-01  -5.044042e+00   -3.345278e+00  -5.053389e+00   \n",
       "25%          -5.724919e-01  -6.570153e-01   -6.788497e-01  -6.653218e-01   \n",
       "50%          -5.724919e-01  -1.482513e-03   -3.238133e-03  -9.633573e-03   \n",
       "75%           6.824547e-01   6.540503e-01    6.658247e-01   6.964922e-01   \n",
       "max           3.266168e+00   3.276181e+00    3.177266e+00   3.520995e+00   \n",
       "\n",
       "       totalevecharge  totalnightcalls  totalnightcharge  totalintlcalls  \\\n",
       "count    5.000000e+03     5.000000e+03      5.000000e+03    5.000000e+03   \n",
       "mean    -3.076650e-15    -1.446631e-16     -2.134724e-14   -1.159961e-16   \n",
       "std      1.000000e+00     1.000000e+00      1.000000e+00    1.000000e+00   \n",
       "min     -3.969035e+00    -5.006302e+00     -3.965995e+00   -1.805284e+00   \n",
       "25%     -6.782472e-01    -6.472971e-01     -6.631000e-01   -5.841773e-01   \n",
       "50%      8.303305e-03     4.048363e-03      9.974656e-04   -1.771418e-01   \n",
       "75%      6.622718e-01     6.553939e-01      6.782889e-01    6.369291e-01   \n",
       "max      3.224618e+00     3.761811e+00      3.849244e+00    6.335426e+00   \n",
       "\n",
       "       totalintlcharge  numbercustomerservicecalls  \n",
       "count     5.000000e+03                5.000000e+03  \n",
       "mean      2.229520e-14               -8.526513e-18  \n",
       "std       1.000000e+00                1.000000e+00  \n",
       "min      -3.717163e+00               -1.202116e+00  \n",
       "25%      -6.320420e-01               -4.366320e-01  \n",
       "50%       1.180931e-02               -4.366320e-01  \n",
       "75%       6.288335e-01                3.288519e-01  \n",
       "max       3.526165e+00                5.687239e+00  "
      ]
     },
     "execution_count": 275,
     "metadata": {},
     "output_type": "execute_result"
    }
   ],
   "source": [
    "train.describe() # we can see now our data is standarized\n",
    "# Z is negative when the raw score is below the mean and Z is positive when above mean"
   ]
  },
  {
   "cell_type": "code",
   "execution_count": 276,
   "metadata": {},
   "outputs": [
    {
     "data": {
      "text/html": [
       "<div>\n",
       "<style scoped>\n",
       "    .dataframe tbody tr th:only-of-type {\n",
       "        vertical-align: middle;\n",
       "    }\n",
       "\n",
       "    .dataframe tbody tr th {\n",
       "        vertical-align: top;\n",
       "    }\n",
       "\n",
       "    .dataframe thead th {\n",
       "        text-align: right;\n",
       "    }\n",
       "</style>\n",
       "<table border=\"1\" class=\"dataframe\">\n",
       "  <thead>\n",
       "    <tr style=\"text-align: right;\">\n",
       "      <th></th>\n",
       "      <th>state</th>\n",
       "      <th>internationalplan</th>\n",
       "      <th>voicemailplan</th>\n",
       "      <th>numbervmailmessages</th>\n",
       "      <th>totaldaycalls</th>\n",
       "      <th>totaldaycharge</th>\n",
       "      <th>totalevecalls</th>\n",
       "      <th>totalevecharge</th>\n",
       "      <th>totalnightcalls</th>\n",
       "      <th>totalnightcharge</th>\n",
       "      <th>totalintlcalls</th>\n",
       "      <th>totalintlcharge</th>\n",
       "      <th>numbercustomerservicecalls</th>\n",
       "      <th>Churn</th>\n",
       "    </tr>\n",
       "  </thead>\n",
       "  <tbody>\n",
       "    <tr>\n",
       "      <th>0</th>\n",
       "      <td>16</td>\n",
       "      <td>0</td>\n",
       "      <td>1</td>\n",
       "      <td>1.273018</td>\n",
       "      <td>0.502773</td>\n",
       "      <td>1.573917</td>\n",
       "      <td>-0.060071</td>\n",
       "      <td>-0.063843</td>\n",
       "      <td>-0.446883</td>\n",
       "      <td>0.876199</td>\n",
       "      <td>-0.584177</td>\n",
       "      <td>-0.095499</td>\n",
       "      <td>-0.436632</td>\n",
       "      <td>0</td>\n",
       "    </tr>\n",
       "    <tr>\n",
       "      <th>1</th>\n",
       "      <td>35</td>\n",
       "      <td>0</td>\n",
       "      <td>1</td>\n",
       "      <td>1.346838</td>\n",
       "      <td>1.158306</td>\n",
       "      <td>-0.347047</td>\n",
       "      <td>0.141679</td>\n",
       "      <td>-0.101079</td>\n",
       "      <td>0.154359</td>\n",
       "      <td>1.069711</td>\n",
       "      <td>-0.584177</td>\n",
       "      <td>1.245858</td>\n",
       "      <td>-0.436632</td>\n",
       "      <td>0</td>\n",
       "    </tr>\n",
       "    <tr>\n",
       "      <th>2</th>\n",
       "      <td>31</td>\n",
       "      <td>0</td>\n",
       "      <td>0</td>\n",
       "      <td>-0.572492</td>\n",
       "      <td>0.704476</td>\n",
       "      <td>1.171169</td>\n",
       "      <td>0.494742</td>\n",
       "      <td>-1.571927</td>\n",
       "      <td>0.204462</td>\n",
       "      <td>-0.746662</td>\n",
       "      <td>0.229894</td>\n",
       "      <td>0.695901</td>\n",
       "      <td>-1.202116</td>\n",
       "      <td>0</td>\n",
       "    </tr>\n",
       "    <tr>\n",
       "      <th>3</th>\n",
       "      <td>35</td>\n",
       "      <td>1</td>\n",
       "      <td>0</td>\n",
       "      <td>-0.572492</td>\n",
       "      <td>-1.463825</td>\n",
       "      <td>2.210236</td>\n",
       "      <td>-0.614884</td>\n",
       "      <td>-2.744881</td>\n",
       "      <td>-0.547090</td>\n",
       "      <td>-0.069370</td>\n",
       "      <td>1.043965</td>\n",
       "      <td>-1.329548</td>\n",
       "      <td>0.328852</td>\n",
       "      <td>0</td>\n",
       "    </tr>\n",
       "    <tr>\n",
       "      <th>4</th>\n",
       "      <td>36</td>\n",
       "      <td>1</td>\n",
       "      <td>0</td>\n",
       "      <td>-0.572492</td>\n",
       "      <td>0.654050</td>\n",
       "      <td>-0.252090</td>\n",
       "      <td>1.099993</td>\n",
       "      <td>-1.034323</td>\n",
       "      <td>1.056222</td>\n",
       "      <td>-0.267280</td>\n",
       "      <td>-0.584177</td>\n",
       "      <td>-0.055259</td>\n",
       "      <td>1.094336</td>\n",
       "      <td>0</td>\n",
       "    </tr>\n",
       "  </tbody>\n",
       "</table>\n",
       "</div>"
      ],
      "text/plain": [
       "  state internationalplan voicemailplan  numbervmailmessages  totaldaycalls  \\\n",
       "0    16                 0             1             1.273018       0.502773   \n",
       "1    35                 0             1             1.346838       1.158306   \n",
       "2    31                 0             0            -0.572492       0.704476   \n",
       "3    35                 1             0            -0.572492      -1.463825   \n",
       "4    36                 1             0            -0.572492       0.654050   \n",
       "\n",
       "   totaldaycharge  totalevecalls  totalevecharge  totalnightcalls  \\\n",
       "0        1.573917      -0.060071       -0.063843        -0.446883   \n",
       "1       -0.347047       0.141679       -0.101079         0.154359   \n",
       "2        1.171169       0.494742       -1.571927         0.204462   \n",
       "3        2.210236      -0.614884       -2.744881        -0.547090   \n",
       "4       -0.252090       1.099993       -1.034323         1.056222   \n",
       "\n",
       "   totalnightcharge  totalintlcalls  totalintlcharge  \\\n",
       "0          0.876199       -0.584177        -0.095499   \n",
       "1          1.069711       -0.584177         1.245858   \n",
       "2         -0.746662        0.229894         0.695901   \n",
       "3         -0.069370        1.043965        -1.329548   \n",
       "4         -0.267280       -0.584177        -0.055259   \n",
       "\n",
       "   numbercustomerservicecalls Churn  \n",
       "0                   -0.436632     0  \n",
       "1                   -0.436632     0  \n",
       "2                   -1.202116     0  \n",
       "3                    0.328852     0  \n",
       "4                    1.094336     0  "
      ]
     },
     "execution_count": 276,
     "metadata": {},
     "output_type": "execute_result"
    }
   ],
   "source": [
    "train.head(5)"
   ]
  },
  {
   "cell_type": "code",
   "execution_count": 277,
   "metadata": {},
   "outputs": [
    {
     "data": {
      "text/html": [
       "<div>\n",
       "<style scoped>\n",
       "    .dataframe tbody tr th:only-of-type {\n",
       "        vertical-align: middle;\n",
       "    }\n",
       "\n",
       "    .dataframe tbody tr th {\n",
       "        vertical-align: top;\n",
       "    }\n",
       "\n",
       "    .dataframe thead th {\n",
       "        text-align: right;\n",
       "    }\n",
       "</style>\n",
       "<table border=\"1\" class=\"dataframe\">\n",
       "  <thead>\n",
       "    <tr style=\"text-align: right;\">\n",
       "      <th></th>\n",
       "      <th>state</th>\n",
       "      <th>internationalplan</th>\n",
       "      <th>voicemailplan</th>\n",
       "      <th>numbervmailmessages</th>\n",
       "      <th>totaldaycalls</th>\n",
       "      <th>totaldaycharge</th>\n",
       "      <th>totalevecalls</th>\n",
       "      <th>totalevecharge</th>\n",
       "      <th>totalnightcalls</th>\n",
       "      <th>totalnightcharge</th>\n",
       "      <th>totalintlcalls</th>\n",
       "      <th>totalintlcharge</th>\n",
       "      <th>numbercustomerservicecalls</th>\n",
       "      <th>Churn</th>\n",
       "    </tr>\n",
       "  </thead>\n",
       "  <tbody>\n",
       "    <tr>\n",
       "      <th>0</th>\n",
       "      <td>16</td>\n",
       "      <td>0</td>\n",
       "      <td>1</td>\n",
       "      <td>1.273018</td>\n",
       "      <td>0.502773</td>\n",
       "      <td>1.573917</td>\n",
       "      <td>-0.060071</td>\n",
       "      <td>-0.063843</td>\n",
       "      <td>-0.446883</td>\n",
       "      <td>0.876199</td>\n",
       "      <td>-0.584177</td>\n",
       "      <td>-0.095499</td>\n",
       "      <td>-0.436632</td>\n",
       "      <td>No</td>\n",
       "    </tr>\n",
       "    <tr>\n",
       "      <th>1</th>\n",
       "      <td>35</td>\n",
       "      <td>0</td>\n",
       "      <td>1</td>\n",
       "      <td>1.346838</td>\n",
       "      <td>1.158306</td>\n",
       "      <td>-0.347047</td>\n",
       "      <td>0.141679</td>\n",
       "      <td>-0.101079</td>\n",
       "      <td>0.154359</td>\n",
       "      <td>1.069711</td>\n",
       "      <td>-0.584177</td>\n",
       "      <td>1.245858</td>\n",
       "      <td>-0.436632</td>\n",
       "      <td>No</td>\n",
       "    </tr>\n",
       "    <tr>\n",
       "      <th>2</th>\n",
       "      <td>31</td>\n",
       "      <td>0</td>\n",
       "      <td>0</td>\n",
       "      <td>-0.572492</td>\n",
       "      <td>0.704476</td>\n",
       "      <td>1.171169</td>\n",
       "      <td>0.494742</td>\n",
       "      <td>-1.571927</td>\n",
       "      <td>0.204462</td>\n",
       "      <td>-0.746662</td>\n",
       "      <td>0.229894</td>\n",
       "      <td>0.695901</td>\n",
       "      <td>-1.202116</td>\n",
       "      <td>No</td>\n",
       "    </tr>\n",
       "    <tr>\n",
       "      <th>3</th>\n",
       "      <td>35</td>\n",
       "      <td>1</td>\n",
       "      <td>0</td>\n",
       "      <td>-0.572492</td>\n",
       "      <td>-1.463825</td>\n",
       "      <td>2.210236</td>\n",
       "      <td>-0.614884</td>\n",
       "      <td>-2.744881</td>\n",
       "      <td>-0.547090</td>\n",
       "      <td>-0.069370</td>\n",
       "      <td>1.043965</td>\n",
       "      <td>-1.329548</td>\n",
       "      <td>0.328852</td>\n",
       "      <td>No</td>\n",
       "    </tr>\n",
       "    <tr>\n",
       "      <th>4</th>\n",
       "      <td>36</td>\n",
       "      <td>1</td>\n",
       "      <td>0</td>\n",
       "      <td>-0.572492</td>\n",
       "      <td>0.654050</td>\n",
       "      <td>-0.252090</td>\n",
       "      <td>1.099993</td>\n",
       "      <td>-1.034323</td>\n",
       "      <td>1.056222</td>\n",
       "      <td>-0.267280</td>\n",
       "      <td>-0.584177</td>\n",
       "      <td>-0.055259</td>\n",
       "      <td>1.094336</td>\n",
       "      <td>No</td>\n",
       "    </tr>\n",
       "  </tbody>\n",
       "</table>\n",
       "</div>"
      ],
      "text/plain": [
       "  state internationalplan voicemailplan  numbervmailmessages  totaldaycalls  \\\n",
       "0    16                 0             1             1.273018       0.502773   \n",
       "1    35                 0             1             1.346838       1.158306   \n",
       "2    31                 0             0            -0.572492       0.704476   \n",
       "3    35                 1             0            -0.572492      -1.463825   \n",
       "4    36                 1             0            -0.572492       0.654050   \n",
       "\n",
       "   totaldaycharge  totalevecalls  totalevecharge  totalnightcalls  \\\n",
       "0        1.573917      -0.060071       -0.063843        -0.446883   \n",
       "1       -0.347047       0.141679       -0.101079         0.154359   \n",
       "2        1.171169       0.494742       -1.571927         0.204462   \n",
       "3        2.210236      -0.614884       -2.744881        -0.547090   \n",
       "4       -0.252090       1.099993       -1.034323         1.056222   \n",
       "\n",
       "   totalnightcharge  totalintlcalls  totalintlcharge  \\\n",
       "0          0.876199       -0.584177        -0.095499   \n",
       "1          1.069711       -0.584177         1.245858   \n",
       "2         -0.746662        0.229894         0.695901   \n",
       "3         -0.069370        1.043965        -1.329548   \n",
       "4         -0.267280       -0.584177        -0.055259   \n",
       "\n",
       "   numbercustomerservicecalls Churn  \n",
       "0                   -0.436632    No  \n",
       "1                   -0.436632    No  \n",
       "2                   -1.202116    No  \n",
       "3                    0.328852    No  \n",
       "4                    1.094336    No  "
      ]
     },
     "execution_count": 277,
     "metadata": {},
     "output_type": "execute_result"
    }
   ],
   "source": [
    "#repalace target categories with Yes and No\n",
    "train['Churn'] = train['Churn'].replace(0, 'No')\n",
    "train['Churn'] = train['Churn'].replace(1, 'Yes')\n",
    "train.head(5)"
   ]
  },
  {
   "cell_type": "markdown",
   "metadata": {},
   "source": [
    "## Dealing with Target class imbalance problem for categorical Target Variable-Churn"
   ]
  },
  {
   "cell_type": "raw",
   "metadata": {},
   "source": [
    "# Also as we have seen in EDA our target class is imbalanced , we have 85.86% of False cases and\n",
    "14.14% of True cases. therefore, it is a case of target class imbalance problem"
   ]
  },
  {
   "cell_type": "code",
   "execution_count": 278,
   "metadata": {},
   "outputs": [
    {
     "name": "stdout",
     "output_type": "stream",
     "text": [
      " False.    0.8586\n",
      " True.     0.1414\n",
      "Name: Churn, dtype: float64\n"
     ]
    }
   ],
   "source": [
    "print(imbalance)"
   ]
  },
  {
   "cell_type": "code",
   "execution_count": 279,
   "metadata": {},
   "outputs": [],
   "source": [
    "# As sampling is only applied on training dataset, so lets divide our whole data into train and test\n",
    "from sklearn.model_selection import train_test_split\n",
    "#Divide data into train and test\n",
    "X = train.values[:, 0:13]\n",
    "Y = train.values[:,13]\n",
    "\n",
    "X_train, X_test, y_train, y_test = train_test_split( X, Y, test_size = 0.25)"
   ]
  },
  {
   "cell_type": "code",
   "execution_count": 232,
   "metadata": {},
   "outputs": [],
   "source": [
    "# from imblearn.over_sampling import SMOTE\n",
    "# method = SMOTE(random_state=2019)\n",
    "# X_train_smote, y_train_smote = method.fit_sample(X_train, y_train)\n"
   ]
  },
  {
   "cell_type": "markdown",
   "metadata": {},
   "source": [
    "## Decision Tree"
   ]
  },
  {
   "cell_type": "code",
   "execution_count": 280,
   "metadata": {},
   "outputs": [],
   "source": [
    "#Import Libraries for decision tree\n",
    "from sklearn import tree\n",
    "from sklearn.metrics import accuracy_score\n",
    "#Decision Tree on sampled Train\n",
    "DT_model= tree.DecisionTreeClassifier(criterion='entropy').fit(X_train, y_train)\n",
    "#predict new test cases\n",
    "DT_Predictions=DT_model.predict(X_test)"
   ]
  },
  {
   "cell_type": "code",
   "execution_count": 281,
   "metadata": {},
   "outputs": [
    {
     "data": {
      "text/html": [
       "<div>\n",
       "<style scoped>\n",
       "    .dataframe tbody tr th:only-of-type {\n",
       "        vertical-align: middle;\n",
       "    }\n",
       "\n",
       "    .dataframe tbody tr th {\n",
       "        vertical-align: top;\n",
       "    }\n",
       "\n",
       "    .dataframe thead th {\n",
       "        text-align: right;\n",
       "    }\n",
       "</style>\n",
       "<table border=\"1\" class=\"dataframe\">\n",
       "  <thead>\n",
       "    <tr style=\"text-align: right;\">\n",
       "      <th>col_0</th>\n",
       "      <th>No</th>\n",
       "      <th>Yes</th>\n",
       "    </tr>\n",
       "    <tr>\n",
       "      <th>row_0</th>\n",
       "      <th></th>\n",
       "      <th></th>\n",
       "    </tr>\n",
       "  </thead>\n",
       "  <tbody>\n",
       "    <tr>\n",
       "      <th>No</th>\n",
       "      <td>1023</td>\n",
       "      <td>47</td>\n",
       "    </tr>\n",
       "    <tr>\n",
       "      <th>Yes</th>\n",
       "      <td>42</td>\n",
       "      <td>138</td>\n",
       "    </tr>\n",
       "  </tbody>\n",
       "</table>\n",
       "</div>"
      ],
      "text/plain": [
       "col_0    No  Yes\n",
       "row_0           \n",
       "No     1023   47\n",
       "Yes      42  138"
      ]
     },
     "execution_count": 281,
     "metadata": {},
     "output_type": "execute_result"
    }
   ],
   "source": [
    "CM = pd.crosstab(y_test, DT_Predictions)\n",
    "\n",
    "#let us save TP, TN, FP, FN\n",
    "TN = CM.iloc[0,0]\n",
    "FN = CM.iloc[1,0]\n",
    "TP = CM.iloc[1,1]\n",
    "FP = CM.iloc[0,1]\n",
    "\n",
    "CM"
   ]
  },
  {
   "cell_type": "code",
   "execution_count": 282,
   "metadata": {
    "scrolled": true
   },
   "outputs": [
    {
     "name": "stdout",
     "output_type": "stream",
     "text": [
      "Accuracy-  92.88\n",
      "FNR-  23.333333333333332\n",
      "Sensitivity/Recall/TPR-   74.5945945945946\n"
     ]
    }
   ],
   "source": [
    "print('Accuracy- ',((TN+TP)/(TN+TP+FN+FP))*100)\n",
    "print('FNR- ',((FN)/(TP+FN))*100)\n",
    "print('Sensitivity/Recall/TPR-  ',((TP)/(TP+FP))*100)"
   ]
  },
  {
   "cell_type": "code",
   "execution_count": 233,
   "metadata": {},
   "outputs": [],
   "source": [
    "# #Decision Tree on sampled Train\n",
    "# DT_model= tree.DecisionTreeClassifier(criterion='entropy').fit(X_train_smote, y_train_smote)\n",
    "# #predict new test cases\n",
    "# DT_pred=DT_model.predict(X_test)"
   ]
  },
  {
   "cell_type": "code",
   "execution_count": null,
   "metadata": {},
   "outputs": [],
   "source": [
    "# CM = pd.crosstab(y_test, DT_pred)\n",
    "\n",
    "# #let us save TP, TN, FP, FN\n",
    "# TN = CM.iloc[0,0]\n",
    "# FN = CM.iloc[1,0]\n",
    "# TP = CM.iloc[1,1]\n",
    "# FP = CM.iloc[0,1]\n",
    "\n",
    "# CM"
   ]
  },
  {
   "cell_type": "code",
   "execution_count": null,
   "metadata": {},
   "outputs": [],
   "source": [
    "# print('Accuracy- ',((TN+TP)/(TN+TP+FN+FP))*100)\n",
    "# print('FNR- ',((FN)/(TP+FN))*100)\n",
    "# print('Sensitivity/Recall/TPR-  ',((TP)/(TP+FP))*100)"
   ]
  },
  {
   "cell_type": "markdown",
   "metadata": {},
   "source": [
    "## Random Forest"
   ]
  },
  {
   "cell_type": "code",
   "execution_count": null,
   "metadata": {
    "scrolled": true
   },
   "outputs": [],
   "source": [
    "#Random Forest\n",
    "from sklearn.ensemble import RandomForestClassifier\n",
    "RF_model = RandomForestClassifier(n_estimators = 500).fit(X_train, y_train)\n",
    "# predict on new test cases\n",
    "RF_Predictions = RF_model.predict(X_test)"
   ]
  },
  {
   "cell_type": "code",
   "execution_count": 284,
   "metadata": {
    "scrolled": false
   },
   "outputs": [
    {
     "data": {
      "text/html": [
       "<div>\n",
       "<style scoped>\n",
       "    .dataframe tbody tr th:only-of-type {\n",
       "        vertical-align: middle;\n",
       "    }\n",
       "\n",
       "    .dataframe tbody tr th {\n",
       "        vertical-align: top;\n",
       "    }\n",
       "\n",
       "    .dataframe thead th {\n",
       "        text-align: right;\n",
       "    }\n",
       "</style>\n",
       "<table border=\"1\" class=\"dataframe\">\n",
       "  <thead>\n",
       "    <tr style=\"text-align: right;\">\n",
       "      <th>col_0</th>\n",
       "      <th>No</th>\n",
       "      <th>Yes</th>\n",
       "    </tr>\n",
       "    <tr>\n",
       "      <th>row_0</th>\n",
       "      <th></th>\n",
       "      <th></th>\n",
       "    </tr>\n",
       "  </thead>\n",
       "  <tbody>\n",
       "    <tr>\n",
       "      <th>No</th>\n",
       "      <td>1061</td>\n",
       "      <td>9</td>\n",
       "    </tr>\n",
       "    <tr>\n",
       "      <th>Yes</th>\n",
       "      <td>50</td>\n",
       "      <td>130</td>\n",
       "    </tr>\n",
       "  </tbody>\n",
       "</table>\n",
       "</div>"
      ],
      "text/plain": [
       "col_0    No  Yes\n",
       "row_0           \n",
       "No     1061    9\n",
       "Yes      50  130"
      ]
     },
     "execution_count": 284,
     "metadata": {},
     "output_type": "execute_result"
    }
   ],
   "source": [
    "CM = pd.crosstab(y_test, RF_Predictions)\n",
    "\n",
    "#let us save TP, TN, FP, FN\n",
    "TN = CM.iloc[0,0]\n",
    "FN = CM.iloc[1,0]\n",
    "TP = CM.iloc[1,1]\n",
    "FP = CM.iloc[0,1]\n",
    "\n",
    "CM"
   ]
  },
  {
   "cell_type": "code",
   "execution_count": 285,
   "metadata": {},
   "outputs": [
    {
     "name": "stdout",
     "output_type": "stream",
     "text": [
      "Accuracy-  95.28\n",
      "FNR-  27.77777777777778\n",
      "Sensitivity/Recall/TPR-   93.5251798561151\n"
     ]
    }
   ],
   "source": [
    "print('Accuracy- ',((TN+TP)/(TN+TP+FN+FP))*100)\n",
    "print('FNR- ',((FN)/(TP+FN))*100)\n",
    "print('Sensitivity/Recall/TPR-  ',((TP)/(TP+FP))*100)"
   ]
  },
  {
   "cell_type": "markdown",
   "metadata": {},
   "source": [
    "## Logistic Regression"
   ]
  },
  {
   "cell_type": "code",
   "execution_count": 286,
   "metadata": {},
   "outputs": [],
   "source": [
    "#create copy of train before processing for Logistic Regression\n",
    "df=train.copy()\n",
    "# train = df.copy()"
   ]
  },
  {
   "cell_type": "code",
   "execution_count": 287,
   "metadata": {},
   "outputs": [
    {
     "data": {
      "text/html": [
       "<div>\n",
       "<style scoped>\n",
       "    .dataframe tbody tr th:only-of-type {\n",
       "        vertical-align: middle;\n",
       "    }\n",
       "\n",
       "    .dataframe tbody tr th {\n",
       "        vertical-align: top;\n",
       "    }\n",
       "\n",
       "    .dataframe thead th {\n",
       "        text-align: right;\n",
       "    }\n",
       "</style>\n",
       "<table border=\"1\" class=\"dataframe\">\n",
       "  <thead>\n",
       "    <tr style=\"text-align: right;\">\n",
       "      <th></th>\n",
       "      <th>state</th>\n",
       "      <th>internationalplan</th>\n",
       "      <th>voicemailplan</th>\n",
       "      <th>numbervmailmessages</th>\n",
       "      <th>totaldaycalls</th>\n",
       "      <th>totaldaycharge</th>\n",
       "      <th>totalevecalls</th>\n",
       "      <th>totalevecharge</th>\n",
       "      <th>totalnightcalls</th>\n",
       "      <th>totalnightcharge</th>\n",
       "      <th>totalintlcalls</th>\n",
       "      <th>totalintlcharge</th>\n",
       "      <th>numbercustomerservicecalls</th>\n",
       "      <th>Churn</th>\n",
       "    </tr>\n",
       "  </thead>\n",
       "  <tbody>\n",
       "    <tr>\n",
       "      <th>0</th>\n",
       "      <td>16</td>\n",
       "      <td>0</td>\n",
       "      <td>1</td>\n",
       "      <td>1.273018</td>\n",
       "      <td>0.502773</td>\n",
       "      <td>1.573917</td>\n",
       "      <td>-0.060071</td>\n",
       "      <td>-0.063843</td>\n",
       "      <td>-0.446883</td>\n",
       "      <td>0.876199</td>\n",
       "      <td>-0.584177</td>\n",
       "      <td>-0.095499</td>\n",
       "      <td>-0.436632</td>\n",
       "      <td>0</td>\n",
       "    </tr>\n",
       "    <tr>\n",
       "      <th>1</th>\n",
       "      <td>35</td>\n",
       "      <td>0</td>\n",
       "      <td>1</td>\n",
       "      <td>1.346838</td>\n",
       "      <td>1.158306</td>\n",
       "      <td>-0.347047</td>\n",
       "      <td>0.141679</td>\n",
       "      <td>-0.101079</td>\n",
       "      <td>0.154359</td>\n",
       "      <td>1.069711</td>\n",
       "      <td>-0.584177</td>\n",
       "      <td>1.245858</td>\n",
       "      <td>-0.436632</td>\n",
       "      <td>0</td>\n",
       "    </tr>\n",
       "    <tr>\n",
       "      <th>2</th>\n",
       "      <td>31</td>\n",
       "      <td>0</td>\n",
       "      <td>0</td>\n",
       "      <td>-0.572492</td>\n",
       "      <td>0.704476</td>\n",
       "      <td>1.171169</td>\n",
       "      <td>0.494742</td>\n",
       "      <td>-1.571927</td>\n",
       "      <td>0.204462</td>\n",
       "      <td>-0.746662</td>\n",
       "      <td>0.229894</td>\n",
       "      <td>0.695901</td>\n",
       "      <td>-1.202116</td>\n",
       "      <td>0</td>\n",
       "    </tr>\n",
       "    <tr>\n",
       "      <th>3</th>\n",
       "      <td>35</td>\n",
       "      <td>1</td>\n",
       "      <td>0</td>\n",
       "      <td>-0.572492</td>\n",
       "      <td>-1.463825</td>\n",
       "      <td>2.210236</td>\n",
       "      <td>-0.614884</td>\n",
       "      <td>-2.744881</td>\n",
       "      <td>-0.547090</td>\n",
       "      <td>-0.069370</td>\n",
       "      <td>1.043965</td>\n",
       "      <td>-1.329548</td>\n",
       "      <td>0.328852</td>\n",
       "      <td>0</td>\n",
       "    </tr>\n",
       "    <tr>\n",
       "      <th>4</th>\n",
       "      <td>36</td>\n",
       "      <td>1</td>\n",
       "      <td>0</td>\n",
       "      <td>-0.572492</td>\n",
       "      <td>0.654050</td>\n",
       "      <td>-0.252090</td>\n",
       "      <td>1.099993</td>\n",
       "      <td>-1.034323</td>\n",
       "      <td>1.056222</td>\n",
       "      <td>-0.267280</td>\n",
       "      <td>-0.584177</td>\n",
       "      <td>-0.055259</td>\n",
       "      <td>1.094336</td>\n",
       "      <td>0</td>\n",
       "    </tr>\n",
       "  </tbody>\n",
       "</table>\n",
       "</div>"
      ],
      "text/plain": [
       "  state internationalplan voicemailplan  numbervmailmessages  totaldaycalls  \\\n",
       "0    16                 0             1             1.273018       0.502773   \n",
       "1    35                 0             1             1.346838       1.158306   \n",
       "2    31                 0             0            -0.572492       0.704476   \n",
       "3    35                 1             0            -0.572492      -1.463825   \n",
       "4    36                 1             0            -0.572492       0.654050   \n",
       "\n",
       "   totaldaycharge  totalevecalls  totalevecharge  totalnightcalls  \\\n",
       "0        1.573917      -0.060071       -0.063843        -0.446883   \n",
       "1       -0.347047       0.141679       -0.101079         0.154359   \n",
       "2        1.171169       0.494742       -1.571927         0.204462   \n",
       "3        2.210236      -0.614884       -2.744881        -0.547090   \n",
       "4       -0.252090       1.099993       -1.034323         1.056222   \n",
       "\n",
       "   totalnightcharge  totalintlcalls  totalintlcharge  \\\n",
       "0          0.876199       -0.584177        -0.095499   \n",
       "1          1.069711       -0.584177         1.245858   \n",
       "2         -0.746662        0.229894         0.695901   \n",
       "3         -0.069370        1.043965        -1.329548   \n",
       "4         -0.267280       -0.584177        -0.055259   \n",
       "\n",
       "   numbercustomerservicecalls  Churn  \n",
       "0                   -0.436632      0  \n",
       "1                   -0.436632      0  \n",
       "2                   -1.202116      0  \n",
       "3                    0.328852      0  \n",
       "4                    1.094336      0  "
      ]
     },
     "execution_count": 287,
     "metadata": {},
     "output_type": "execute_result"
    }
   ],
   "source": [
    "#replace target categories with 1 and 0\n",
    "train['Churn'] = train['Churn'].replace('No',0)\n",
    "train['Churn'] = train['Churn'].replace('Yes',1)\n",
    "train.head(5)"
   ]
  },
  {
   "cell_type": "code",
   "execution_count": 288,
   "metadata": {},
   "outputs": [],
   "source": [
    "#Create logistic data. Save target variable first\n",
    "train_logit = pd.DataFrame(train['Churn'])"
   ]
  },
  {
   "cell_type": "code",
   "execution_count": 289,
   "metadata": {},
   "outputs": [],
   "source": [
    "#Add continous variables\n",
    "train_logit = train_logit.join(train[numcol])"
   ]
  },
  {
   "cell_type": "code",
   "execution_count": 290,
   "metadata": {},
   "outputs": [
    {
     "data": {
      "text/html": [
       "<div>\n",
       "<style scoped>\n",
       "    .dataframe tbody tr th:only-of-type {\n",
       "        vertical-align: middle;\n",
       "    }\n",
       "\n",
       "    .dataframe tbody tr th {\n",
       "        vertical-align: top;\n",
       "    }\n",
       "\n",
       "    .dataframe thead th {\n",
       "        text-align: right;\n",
       "    }\n",
       "</style>\n",
       "<table border=\"1\" class=\"dataframe\">\n",
       "  <thead>\n",
       "    <tr style=\"text-align: right;\">\n",
       "      <th></th>\n",
       "      <th>Churn</th>\n",
       "      <th>numbervmailmessages</th>\n",
       "      <th>totaldaycalls</th>\n",
       "      <th>totaldaycharge</th>\n",
       "      <th>totalevecalls</th>\n",
       "      <th>totalevecharge</th>\n",
       "      <th>totalnightcalls</th>\n",
       "      <th>totalnightcharge</th>\n",
       "      <th>totalintlcalls</th>\n",
       "      <th>totalintlcharge</th>\n",
       "      <th>numbercustomerservicecalls</th>\n",
       "    </tr>\n",
       "  </thead>\n",
       "  <tbody>\n",
       "    <tr>\n",
       "      <th>0</th>\n",
       "      <td>0</td>\n",
       "      <td>1.273018</td>\n",
       "      <td>0.502773</td>\n",
       "      <td>1.573917</td>\n",
       "      <td>-0.060071</td>\n",
       "      <td>-0.063843</td>\n",
       "      <td>-0.446883</td>\n",
       "      <td>0.876199</td>\n",
       "      <td>-0.584177</td>\n",
       "      <td>-0.095499</td>\n",
       "      <td>-0.436632</td>\n",
       "    </tr>\n",
       "    <tr>\n",
       "      <th>0</th>\n",
       "      <td>0</td>\n",
       "      <td>-0.572492</td>\n",
       "      <td>1.158306</td>\n",
       "      <td>-2.030073</td>\n",
       "      <td>-1.371448</td>\n",
       "      <td>0.222414</td>\n",
       "      <td>-1.348746</td>\n",
       "      <td>0.704677</td>\n",
       "      <td>-0.584177</td>\n",
       "      <td>0.119118</td>\n",
       "      <td>1.094336</td>\n",
       "    </tr>\n",
       "    <tr>\n",
       "      <th>0</th>\n",
       "      <td>0</td>\n",
       "      <td>1.273018</td>\n",
       "      <td>0.502773</td>\n",
       "      <td>1.573917</td>\n",
       "      <td>-0.060071</td>\n",
       "      <td>-0.063843</td>\n",
       "      <td>-0.446883</td>\n",
       "      <td>0.876199</td>\n",
       "      <td>-0.584177</td>\n",
       "      <td>-0.095499</td>\n",
       "      <td>-0.436632</td>\n",
       "    </tr>\n",
       "    <tr>\n",
       "      <th>0</th>\n",
       "      <td>0</td>\n",
       "      <td>-0.572492</td>\n",
       "      <td>1.158306</td>\n",
       "      <td>-2.030073</td>\n",
       "      <td>-1.371448</td>\n",
       "      <td>0.222414</td>\n",
       "      <td>-1.348746</td>\n",
       "      <td>0.704677</td>\n",
       "      <td>-0.584177</td>\n",
       "      <td>0.119118</td>\n",
       "      <td>1.094336</td>\n",
       "    </tr>\n",
       "    <tr>\n",
       "      <th>1</th>\n",
       "      <td>0</td>\n",
       "      <td>1.346838</td>\n",
       "      <td>1.158306</td>\n",
       "      <td>-0.347047</td>\n",
       "      <td>0.141679</td>\n",
       "      <td>-0.101079</td>\n",
       "      <td>0.154359</td>\n",
       "      <td>1.069711</td>\n",
       "      <td>-0.584177</td>\n",
       "      <td>1.245858</td>\n",
       "      <td>-0.436632</td>\n",
       "    </tr>\n",
       "  </tbody>\n",
       "</table>\n",
       "</div>"
      ],
      "text/plain": [
       "   Churn  numbervmailmessages  totaldaycalls  totaldaycharge  totalevecalls  \\\n",
       "0      0             1.273018       0.502773        1.573917      -0.060071   \n",
       "0      0            -0.572492       1.158306       -2.030073      -1.371448   \n",
       "0      0             1.273018       0.502773        1.573917      -0.060071   \n",
       "0      0            -0.572492       1.158306       -2.030073      -1.371448   \n",
       "1      0             1.346838       1.158306       -0.347047       0.141679   \n",
       "\n",
       "   totalevecharge  totalnightcalls  totalnightcharge  totalintlcalls  \\\n",
       "0       -0.063843        -0.446883          0.876199       -0.584177   \n",
       "0        0.222414        -1.348746          0.704677       -0.584177   \n",
       "0       -0.063843        -0.446883          0.876199       -0.584177   \n",
       "0        0.222414        -1.348746          0.704677       -0.584177   \n",
       "1       -0.101079         0.154359          1.069711       -0.584177   \n",
       "\n",
       "   totalintlcharge  numbercustomerservicecalls  \n",
       "0        -0.095499                   -0.436632  \n",
       "0         0.119118                    1.094336  \n",
       "0        -0.095499                   -0.436632  \n",
       "0         0.119118                    1.094336  \n",
       "1         1.245858                   -0.436632  "
      ]
     },
     "execution_count": 290,
     "metadata": {},
     "output_type": "execute_result"
    }
   ],
   "source": [
    "train_logit.head(5)"
   ]
  },
  {
   "cell_type": "code",
   "execution_count": 291,
   "metadata": {},
   "outputs": [
    {
     "data": {
      "text/plain": [
       "Index(['state', 'internationalplan', 'voicemailplan', 'Churn'], dtype='object')"
      ]
     },
     "execution_count": 291,
     "metadata": {},
     "output_type": "execute_result"
    }
   ],
   "source": [
    "catcol"
   ]
  },
  {
   "cell_type": "code",
   "execution_count": 292,
   "metadata": {},
   "outputs": [],
   "source": [
    "##Create dummies for categorical variables\n",
    "for i in catcol[0:3]:\n",
    "    temp = pd.get_dummies(train[i], prefix = i)\n",
    "    train_logit = train_logit.join(temp)"
   ]
  },
  {
   "cell_type": "code",
   "execution_count": 294,
   "metadata": {},
   "outputs": [
    {
     "data": {
      "text/plain": [
       "(55010, 66)"
      ]
     },
     "execution_count": 294,
     "metadata": {},
     "output_type": "execute_result"
    }
   ],
   "source": [
    "train_logit.shape"
   ]
  },
  {
   "cell_type": "code",
   "execution_count": 295,
   "metadata": {},
   "outputs": [
    {
     "data": {
      "text/html": [
       "<div>\n",
       "<style scoped>\n",
       "    .dataframe tbody tr th:only-of-type {\n",
       "        vertical-align: middle;\n",
       "    }\n",
       "\n",
       "    .dataframe tbody tr th {\n",
       "        vertical-align: top;\n",
       "    }\n",
       "\n",
       "    .dataframe thead th {\n",
       "        text-align: right;\n",
       "    }\n",
       "</style>\n",
       "<table border=\"1\" class=\"dataframe\">\n",
       "  <thead>\n",
       "    <tr style=\"text-align: right;\">\n",
       "      <th></th>\n",
       "      <th>Churn</th>\n",
       "      <th>numbervmailmessages</th>\n",
       "      <th>totaldaycalls</th>\n",
       "      <th>totaldaycharge</th>\n",
       "      <th>totalevecalls</th>\n",
       "      <th>totalevecharge</th>\n",
       "      <th>totalnightcalls</th>\n",
       "      <th>totalnightcharge</th>\n",
       "      <th>totalintlcalls</th>\n",
       "      <th>totalintlcharge</th>\n",
       "      <th>...</th>\n",
       "      <th>state_45</th>\n",
       "      <th>state_46</th>\n",
       "      <th>state_47</th>\n",
       "      <th>state_48</th>\n",
       "      <th>state_49</th>\n",
       "      <th>state_50</th>\n",
       "      <th>internationalplan_0</th>\n",
       "      <th>internationalplan_1</th>\n",
       "      <th>voicemailplan_0</th>\n",
       "      <th>voicemailplan_1</th>\n",
       "    </tr>\n",
       "  </thead>\n",
       "  <tbody>\n",
       "    <tr>\n",
       "      <th>0</th>\n",
       "      <td>0</td>\n",
       "      <td>1.273018</td>\n",
       "      <td>0.502773</td>\n",
       "      <td>1.573917</td>\n",
       "      <td>-0.060071</td>\n",
       "      <td>-0.063843</td>\n",
       "      <td>-0.446883</td>\n",
       "      <td>0.876199</td>\n",
       "      <td>-0.584177</td>\n",
       "      <td>-0.095499</td>\n",
       "      <td>...</td>\n",
       "      <td>0</td>\n",
       "      <td>0</td>\n",
       "      <td>0</td>\n",
       "      <td>0</td>\n",
       "      <td>0</td>\n",
       "      <td>0</td>\n",
       "      <td>1</td>\n",
       "      <td>0</td>\n",
       "      <td>0</td>\n",
       "      <td>1</td>\n",
       "    </tr>\n",
       "    <tr>\n",
       "      <th>0</th>\n",
       "      <td>0</td>\n",
       "      <td>1.273018</td>\n",
       "      <td>0.502773</td>\n",
       "      <td>1.573917</td>\n",
       "      <td>-0.060071</td>\n",
       "      <td>-0.063843</td>\n",
       "      <td>-0.446883</td>\n",
       "      <td>0.876199</td>\n",
       "      <td>-0.584177</td>\n",
       "      <td>-0.095499</td>\n",
       "      <td>...</td>\n",
       "      <td>0</td>\n",
       "      <td>0</td>\n",
       "      <td>0</td>\n",
       "      <td>0</td>\n",
       "      <td>0</td>\n",
       "      <td>0</td>\n",
       "      <td>1</td>\n",
       "      <td>0</td>\n",
       "      <td>1</td>\n",
       "      <td>0</td>\n",
       "    </tr>\n",
       "    <tr>\n",
       "      <th>0</th>\n",
       "      <td>0</td>\n",
       "      <td>1.273018</td>\n",
       "      <td>0.502773</td>\n",
       "      <td>1.573917</td>\n",
       "      <td>-0.060071</td>\n",
       "      <td>-0.063843</td>\n",
       "      <td>-0.446883</td>\n",
       "      <td>0.876199</td>\n",
       "      <td>-0.584177</td>\n",
       "      <td>-0.095499</td>\n",
       "      <td>...</td>\n",
       "      <td>0</td>\n",
       "      <td>0</td>\n",
       "      <td>0</td>\n",
       "      <td>0</td>\n",
       "      <td>0</td>\n",
       "      <td>0</td>\n",
       "      <td>1</td>\n",
       "      <td>0</td>\n",
       "      <td>0</td>\n",
       "      <td>1</td>\n",
       "    </tr>\n",
       "    <tr>\n",
       "      <th>0</th>\n",
       "      <td>0</td>\n",
       "      <td>1.273018</td>\n",
       "      <td>0.502773</td>\n",
       "      <td>1.573917</td>\n",
       "      <td>-0.060071</td>\n",
       "      <td>-0.063843</td>\n",
       "      <td>-0.446883</td>\n",
       "      <td>0.876199</td>\n",
       "      <td>-0.584177</td>\n",
       "      <td>-0.095499</td>\n",
       "      <td>...</td>\n",
       "      <td>0</td>\n",
       "      <td>0</td>\n",
       "      <td>0</td>\n",
       "      <td>0</td>\n",
       "      <td>0</td>\n",
       "      <td>0</td>\n",
       "      <td>1</td>\n",
       "      <td>0</td>\n",
       "      <td>1</td>\n",
       "      <td>0</td>\n",
       "    </tr>\n",
       "    <tr>\n",
       "      <th>0</th>\n",
       "      <td>0</td>\n",
       "      <td>1.273018</td>\n",
       "      <td>0.502773</td>\n",
       "      <td>1.573917</td>\n",
       "      <td>-0.060071</td>\n",
       "      <td>-0.063843</td>\n",
       "      <td>-0.446883</td>\n",
       "      <td>0.876199</td>\n",
       "      <td>-0.584177</td>\n",
       "      <td>-0.095499</td>\n",
       "      <td>...</td>\n",
       "      <td>0</td>\n",
       "      <td>0</td>\n",
       "      <td>0</td>\n",
       "      <td>0</td>\n",
       "      <td>0</td>\n",
       "      <td>0</td>\n",
       "      <td>1</td>\n",
       "      <td>0</td>\n",
       "      <td>0</td>\n",
       "      <td>1</td>\n",
       "    </tr>\n",
       "  </tbody>\n",
       "</table>\n",
       "<p>5 rows × 66 columns</p>\n",
       "</div>"
      ],
      "text/plain": [
       "   Churn  numbervmailmessages  totaldaycalls  totaldaycharge  totalevecalls  \\\n",
       "0      0             1.273018       0.502773        1.573917      -0.060071   \n",
       "0      0             1.273018       0.502773        1.573917      -0.060071   \n",
       "0      0             1.273018       0.502773        1.573917      -0.060071   \n",
       "0      0             1.273018       0.502773        1.573917      -0.060071   \n",
       "0      0             1.273018       0.502773        1.573917      -0.060071   \n",
       "\n",
       "   totalevecharge  totalnightcalls  totalnightcharge  totalintlcalls  \\\n",
       "0       -0.063843        -0.446883          0.876199       -0.584177   \n",
       "0       -0.063843        -0.446883          0.876199       -0.584177   \n",
       "0       -0.063843        -0.446883          0.876199       -0.584177   \n",
       "0       -0.063843        -0.446883          0.876199       -0.584177   \n",
       "0       -0.063843        -0.446883          0.876199       -0.584177   \n",
       "\n",
       "   totalintlcharge  ...  state_45  state_46  state_47  state_48  state_49  \\\n",
       "0        -0.095499  ...         0         0         0         0         0   \n",
       "0        -0.095499  ...         0         0         0         0         0   \n",
       "0        -0.095499  ...         0         0         0         0         0   \n",
       "0        -0.095499  ...         0         0         0         0         0   \n",
       "0        -0.095499  ...         0         0         0         0         0   \n",
       "\n",
       "   state_50  internationalplan_0  internationalplan_1  voicemailplan_0  \\\n",
       "0         0                    1                    0                0   \n",
       "0         0                    1                    0                1   \n",
       "0         0                    1                    0                0   \n",
       "0         0                    1                    0                1   \n",
       "0         0                    1                    0                0   \n",
       "\n",
       "   voicemailplan_1  \n",
       "0                1  \n",
       "0                0  \n",
       "0                1  \n",
       "0                0  \n",
       "0                1  \n",
       "\n",
       "[5 rows x 66 columns]"
      ]
     },
     "execution_count": 295,
     "metadata": {},
     "output_type": "execute_result"
    }
   ],
   "source": [
    "train_logit.head(5)"
   ]
  },
  {
   "cell_type": "code",
   "execution_count": 298,
   "metadata": {},
   "outputs": [],
   "source": [
    "Sample_Index = np.random.rand(len(train_logit)) < 0.75\n",
    "\n",
    "train = train_logit[Sample_Index]\n",
    "test = train_logit[~Sample_Index]"
   ]
  },
  {
   "cell_type": "code",
   "execution_count": 299,
   "metadata": {},
   "outputs": [],
   "source": [
    "#select column indexes for independent variables\n",
    "train_cols = train.columns[1:66]"
   ]
  },
  {
   "cell_type": "code",
   "execution_count": 314,
   "metadata": {},
   "outputs": [
    {
     "name": "stdout",
     "output_type": "stream",
     "text": [
      "Optimization terminated successfully.\n",
      "         Current function value: 0.363960\n",
      "         Iterations 7\n"
     ]
    }
   ],
   "source": [
    "#Built Logistic Regression\n",
    "import statsmodels.api as sm\n",
    "\n",
    "logit = sm.Logit(train['Churn'], train[train_cols]).fit()"
   ]
  },
  {
   "cell_type": "code",
   "execution_count": 313,
   "metadata": {},
   "outputs": [
    {
     "data": {
      "text/html": [
       "<table class=\"simpletable\">\n",
       "<caption>Logit Regression Results</caption>\n",
       "<tr>\n",
       "  <th>Dep. Variable:</th>       <td>Churn</td>      <th>  No. Observations:  </th>  <td> 41227</td> \n",
       "</tr>\n",
       "<tr>\n",
       "  <th>Model:</th>               <td>Logit</td>      <th>  Df Residuals:      </th>  <td> 41164</td> \n",
       "</tr>\n",
       "<tr>\n",
       "  <th>Method:</th>               <td>MLE</td>       <th>  Df Model:          </th>  <td>    62</td> \n",
       "</tr>\n",
       "<tr>\n",
       "  <th>Date:</th>          <td>Wed, 13 Mar 2019</td> <th>  Pseudo R-squ.:     </th>  <td>0.06499</td>\n",
       "</tr>\n",
       "<tr>\n",
       "  <th>Time:</th>              <td>14:01:03</td>     <th>  Log-Likelihood:    </th> <td> -15005.</td>\n",
       "</tr>\n",
       "<tr>\n",
       "  <th>converged:</th>           <td>True</td>       <th>  LL-Null:           </th> <td> -16048.</td>\n",
       "</tr>\n",
       "<tr>\n",
       "  <th> </th>                      <td> </td>        <th>  LLR p-value:       </th>  <td> 0.000</td> \n",
       "</tr>\n",
       "</table>\n",
       "<table class=\"simpletable\">\n",
       "<tr>\n",
       "               <td></td>                 <th>coef</th>     <th>std err</th>      <th>z</th>      <th>P>|z|</th>  <th>[0.025</th>    <th>0.975]</th>  \n",
       "</tr>\n",
       "<tr>\n",
       "  <th>numbervmailmessages</th>        <td>   -0.0998</td> <td>    0.018</td> <td>   -5.464</td> <td> 0.000</td> <td>   -0.136</td> <td>   -0.064</td>\n",
       "</tr>\n",
       "<tr>\n",
       "  <th>totaldaycalls</th>              <td>   -0.0019</td> <td>    0.015</td> <td>   -0.126</td> <td> 0.899</td> <td>   -0.032</td> <td>    0.028</td>\n",
       "</tr>\n",
       "<tr>\n",
       "  <th>totaldaycharge</th>             <td>    0.2689</td> <td>    0.015</td> <td>   17.506</td> <td> 0.000</td> <td>    0.239</td> <td>    0.299</td>\n",
       "</tr>\n",
       "<tr>\n",
       "  <th>totalevecalls</th>              <td>   -0.0445</td> <td>    0.015</td> <td>   -2.904</td> <td> 0.004</td> <td>   -0.074</td> <td>   -0.014</td>\n",
       "</tr>\n",
       "<tr>\n",
       "  <th>totalevecharge</th>             <td>    0.1222</td> <td>    0.015</td> <td>    8.086</td> <td> 0.000</td> <td>    0.093</td> <td>    0.152</td>\n",
       "</tr>\n",
       "<tr>\n",
       "  <th>totalnightcalls</th>            <td>   -0.0191</td> <td>    0.015</td> <td>   -1.268</td> <td> 0.205</td> <td>   -0.049</td> <td>    0.010</td>\n",
       "</tr>\n",
       "<tr>\n",
       "  <th>totalnightcharge</th>           <td>    0.0652</td> <td>    0.015</td> <td>    4.367</td> <td> 0.000</td> <td>    0.036</td> <td>    0.095</td>\n",
       "</tr>\n",
       "<tr>\n",
       "  <th>totalintlcalls</th>             <td>   -0.0596</td> <td>    0.015</td> <td>   -3.872</td> <td> 0.000</td> <td>   -0.090</td> <td>   -0.029</td>\n",
       "</tr>\n",
       "<tr>\n",
       "  <th>totalintlcharge</th>            <td>    0.1000</td> <td>    0.015</td> <td>    6.586</td> <td> 0.000</td> <td>    0.070</td> <td>    0.130</td>\n",
       "</tr>\n",
       "<tr>\n",
       "  <th>numbercustomerservicecalls</th> <td>    0.3348</td> <td>    0.014</td> <td>   23.956</td> <td> 0.000</td> <td>    0.307</td> <td>    0.362</td>\n",
       "</tr>\n",
       "<tr>\n",
       "  <th>state_0</th>                    <td>   -0.0238</td> <td>      nan</td> <td>      nan</td> <td>   nan</td> <td>      nan</td> <td>      nan</td>\n",
       "</tr>\n",
       "<tr>\n",
       "  <th>state_1</th>                    <td>   -0.1244</td> <td>      nan</td> <td>      nan</td> <td>   nan</td> <td>      nan</td> <td>      nan</td>\n",
       "</tr>\n",
       "<tr>\n",
       "  <th>state_2</th>                    <td>   -0.1089</td> <td>      nan</td> <td>      nan</td> <td>   nan</td> <td>      nan</td> <td>      nan</td>\n",
       "</tr>\n",
       "<tr>\n",
       "  <th>state_3</th>                    <td>   -0.4118</td> <td>      nan</td> <td>      nan</td> <td>   nan</td> <td>      nan</td> <td>      nan</td>\n",
       "</tr>\n",
       "<tr>\n",
       "  <th>state_4</th>                    <td>    0.8709</td> <td>      nan</td> <td>      nan</td> <td>   nan</td> <td>      nan</td> <td>      nan</td>\n",
       "</tr>\n",
       "<tr>\n",
       "  <th>state_5</th>                    <td>   -0.1416</td> <td>      nan</td> <td>      nan</td> <td>   nan</td> <td>      nan</td> <td>      nan</td>\n",
       "</tr>\n",
       "<tr>\n",
       "  <th>state_6</th>                    <td>    0.1939</td> <td>      nan</td> <td>      nan</td> <td>   nan</td> <td>      nan</td> <td>      nan</td>\n",
       "</tr>\n",
       "<tr>\n",
       "  <th>state_7</th>                    <td>   -0.1143</td> <td>      nan</td> <td>      nan</td> <td>   nan</td> <td>      nan</td> <td>      nan</td>\n",
       "</tr>\n",
       "<tr>\n",
       "  <th>state_8</th>                    <td>    0.1322</td> <td>      nan</td> <td>      nan</td> <td>   nan</td> <td>      nan</td> <td>      nan</td>\n",
       "</tr>\n",
       "<tr>\n",
       "  <th>state_9</th>                    <td>    0.0588</td> <td>      nan</td> <td>      nan</td> <td>   nan</td> <td>      nan</td> <td>      nan</td>\n",
       "</tr>\n",
       "<tr>\n",
       "  <th>state_10</th>                   <td>   -0.0831</td> <td>      nan</td> <td>      nan</td> <td>   nan</td> <td>      nan</td> <td>      nan</td>\n",
       "</tr>\n",
       "<tr>\n",
       "  <th>state_11</th>                   <td>   -0.7784</td> <td>      nan</td> <td>      nan</td> <td>   nan</td> <td>      nan</td> <td>      nan</td>\n",
       "</tr>\n",
       "<tr>\n",
       "  <th>state_12</th>                   <td>   -0.0520</td> <td>      nan</td> <td>      nan</td> <td>   nan</td> <td>      nan</td> <td>      nan</td>\n",
       "</tr>\n",
       "<tr>\n",
       "  <th>state_13</th>                   <td>   -0.2355</td> <td>      nan</td> <td>      nan</td> <td>   nan</td> <td>      nan</td> <td>      nan</td>\n",
       "</tr>\n",
       "<tr>\n",
       "  <th>state_14</th>                   <td>    0.0123</td> <td>      nan</td> <td>      nan</td> <td>   nan</td> <td>      nan</td> <td>      nan</td>\n",
       "</tr>\n",
       "<tr>\n",
       "  <th>state_15</th>                   <td>    0.1229</td> <td>      nan</td> <td>      nan</td> <td>   nan</td> <td>      nan</td> <td>      nan</td>\n",
       "</tr>\n",
       "<tr>\n",
       "  <th>state_16</th>                   <td>    0.2117</td> <td>      nan</td> <td>      nan</td> <td>   nan</td> <td>      nan</td> <td>      nan</td>\n",
       "</tr>\n",
       "<tr>\n",
       "  <th>state_17</th>                   <td>    0.0590</td> <td>      nan</td> <td>      nan</td> <td>   nan</td> <td>      nan</td> <td>      nan</td>\n",
       "</tr>\n",
       "<tr>\n",
       "  <th>state_18</th>                   <td>   -0.1751</td> <td>      nan</td> <td>      nan</td> <td>   nan</td> <td>      nan</td> <td>      nan</td>\n",
       "</tr>\n",
       "<tr>\n",
       "  <th>state_19</th>                   <td>    0.3239</td> <td>      nan</td> <td>      nan</td> <td>   nan</td> <td>      nan</td> <td>      nan</td>\n",
       "</tr>\n",
       "<tr>\n",
       "  <th>state_20</th>                   <td>    0.2497</td> <td>      nan</td> <td>      nan</td> <td>   nan</td> <td>      nan</td> <td>      nan</td>\n",
       "</tr>\n",
       "<tr>\n",
       "  <th>state_21</th>                   <td>    0.0957</td> <td>      nan</td> <td>      nan</td> <td>   nan</td> <td>      nan</td> <td>      nan</td>\n",
       "</tr>\n",
       "<tr>\n",
       "  <th>state_22</th>                   <td>    0.0662</td> <td>      nan</td> <td>      nan</td> <td>   nan</td> <td>      nan</td> <td>      nan</td>\n",
       "</tr>\n",
       "<tr>\n",
       "  <th>state_23</th>                   <td>   -0.0654</td> <td>      nan</td> <td>      nan</td> <td>   nan</td> <td>      nan</td> <td>      nan</td>\n",
       "</tr>\n",
       "<tr>\n",
       "  <th>state_24</th>                   <td>    0.1457</td> <td>      nan</td> <td>      nan</td> <td>   nan</td> <td>      nan</td> <td>      nan</td>\n",
       "</tr>\n",
       "<tr>\n",
       "  <th>state_25</th>                   <td>    0.0244</td> <td>      nan</td> <td>      nan</td> <td>   nan</td> <td>      nan</td> <td>      nan</td>\n",
       "</tr>\n",
       "<tr>\n",
       "  <th>state_26</th>                   <td>    0.2754</td> <td>      nan</td> <td>      nan</td> <td>   nan</td> <td>      nan</td> <td>      nan</td>\n",
       "</tr>\n",
       "<tr>\n",
       "  <th>state_27</th>                   <td>    0.0205</td> <td>      nan</td> <td>      nan</td> <td>   nan</td> <td>      nan</td> <td>      nan</td>\n",
       "</tr>\n",
       "<tr>\n",
       "  <th>state_28</th>                   <td>   -0.6684</td> <td>      nan</td> <td>      nan</td> <td>   nan</td> <td>      nan</td> <td>      nan</td>\n",
       "</tr>\n",
       "<tr>\n",
       "  <th>state_29</th>                   <td>   -0.4013</td> <td>      nan</td> <td>      nan</td> <td>   nan</td> <td>      nan</td> <td>      nan</td>\n",
       "</tr>\n",
       "<tr>\n",
       "  <th>state_30</th>                   <td>   -0.5218</td> <td>      nan</td> <td>      nan</td> <td>   nan</td> <td>      nan</td> <td>      nan</td>\n",
       "</tr>\n",
       "<tr>\n",
       "  <th>state_31</th>                   <td>    0.2927</td> <td>      nan</td> <td>      nan</td> <td>   nan</td> <td>      nan</td> <td>      nan</td>\n",
       "</tr>\n",
       "<tr>\n",
       "  <th>state_32</th>                   <td>   -0.2077</td> <td>      nan</td> <td>      nan</td> <td>   nan</td> <td>      nan</td> <td>      nan</td>\n",
       "</tr>\n",
       "<tr>\n",
       "  <th>state_33</th>                   <td>    0.0151</td> <td>      nan</td> <td>      nan</td> <td>   nan</td> <td>      nan</td> <td>      nan</td>\n",
       "</tr>\n",
       "<tr>\n",
       "  <th>state_34</th>                   <td>    0.2800</td> <td>      nan</td> <td>      nan</td> <td>   nan</td> <td>      nan</td> <td>      nan</td>\n",
       "</tr>\n",
       "<tr>\n",
       "  <th>state_35</th>                   <td>    0.0944</td> <td>      nan</td> <td>      nan</td> <td>   nan</td> <td>      nan</td> <td>      nan</td>\n",
       "</tr>\n",
       "<tr>\n",
       "  <th>state_36</th>                   <td>    0.1800</td> <td>      nan</td> <td>      nan</td> <td>   nan</td> <td>      nan</td> <td>      nan</td>\n",
       "</tr>\n",
       "<tr>\n",
       "  <th>state_37</th>                   <td>   -0.0416</td> <td>      nan</td> <td>      nan</td> <td>   nan</td> <td>      nan</td> <td>      nan</td>\n",
       "</tr>\n",
       "<tr>\n",
       "  <th>state_38</th>                   <td>   -0.6244</td> <td>      nan</td> <td>      nan</td> <td>   nan</td> <td>      nan</td> <td>      nan</td>\n",
       "</tr>\n",
       "<tr>\n",
       "  <th>state_39</th>                   <td>   -0.4150</td> <td>      nan</td> <td>      nan</td> <td>   nan</td> <td>      nan</td> <td>      nan</td>\n",
       "</tr>\n",
       "<tr>\n",
       "  <th>state_40</th>                   <td>   -0.2372</td> <td>      nan</td> <td>      nan</td> <td>   nan</td> <td>      nan</td> <td>      nan</td>\n",
       "</tr>\n",
       "<tr>\n",
       "  <th>state_41</th>                   <td>    0.0777</td> <td>      nan</td> <td>      nan</td> <td>   nan</td> <td>      nan</td> <td>      nan</td>\n",
       "</tr>\n",
       "<tr>\n",
       "  <th>state_42</th>                   <td>    0.4091</td> <td>      nan</td> <td>      nan</td> <td>   nan</td> <td>      nan</td> <td>      nan</td>\n",
       "</tr>\n",
       "<tr>\n",
       "  <th>state_43</th>                   <td>    0.0792</td> <td>      nan</td> <td>      nan</td> <td>   nan</td> <td>      nan</td> <td>      nan</td>\n",
       "</tr>\n",
       "<tr>\n",
       "  <th>state_44</th>                   <td>    0.0240</td> <td>      nan</td> <td>      nan</td> <td>   nan</td> <td>      nan</td> <td>      nan</td>\n",
       "</tr>\n",
       "<tr>\n",
       "  <th>state_45</th>                   <td>   -0.4574</td> <td>      nan</td> <td>      nan</td> <td>   nan</td> <td>      nan</td> <td>      nan</td>\n",
       "</tr>\n",
       "<tr>\n",
       "  <th>state_46</th>                   <td>   -0.0150</td> <td>      nan</td> <td>      nan</td> <td>   nan</td> <td>      nan</td> <td>      nan</td>\n",
       "</tr>\n",
       "<tr>\n",
       "  <th>state_47</th>                   <td>    0.4523</td> <td>      nan</td> <td>      nan</td> <td>   nan</td> <td>      nan</td> <td>      nan</td>\n",
       "</tr>\n",
       "<tr>\n",
       "  <th>state_48</th>                   <td>   -0.5445</td> <td>      nan</td> <td>      nan</td> <td>   nan</td> <td>      nan</td> <td>      nan</td>\n",
       "</tr>\n",
       "<tr>\n",
       "  <th>state_49</th>                   <td>    0.3352</td> <td>      nan</td> <td>      nan</td> <td>   nan</td> <td>      nan</td> <td>      nan</td>\n",
       "</tr>\n",
       "<tr>\n",
       "  <th>state_50</th>                   <td>   -0.3548</td> <td>      nan</td> <td>      nan</td> <td>   nan</td> <td>      nan</td> <td>      nan</td>\n",
       "</tr>\n",
       "<tr>\n",
       "  <th>internationalplan_0</th>        <td>   -1.3346</td> <td>      nan</td> <td>      nan</td> <td>   nan</td> <td>      nan</td> <td>      nan</td>\n",
       "</tr>\n",
       "<tr>\n",
       "  <th>internationalplan_1</th>        <td>   -0.3661</td> <td>      nan</td> <td>      nan</td> <td>   nan</td> <td>      nan</td> <td>      nan</td>\n",
       "</tr>\n",
       "<tr>\n",
       "  <th>voicemailplan_0</th>            <td>   -0.6776</td> <td> 4.01e+05</td> <td>-1.69e-06</td> <td> 1.000</td> <td>-7.86e+05</td> <td> 7.86e+05</td>\n",
       "</tr>\n",
       "<tr>\n",
       "  <th>voicemailplan_1</th>            <td>   -1.0231</td> <td> 4.01e+05</td> <td>-2.55e-06</td> <td> 1.000</td> <td>-7.86e+05</td> <td> 7.86e+05</td>\n",
       "</tr>\n",
       "</table>"
      ],
      "text/plain": [
       "<class 'statsmodels.iolib.summary.Summary'>\n",
       "\"\"\"\n",
       "                           Logit Regression Results                           \n",
       "==============================================================================\n",
       "Dep. Variable:                  Churn   No. Observations:                41227\n",
       "Model:                          Logit   Df Residuals:                    41164\n",
       "Method:                           MLE   Df Model:                           62\n",
       "Date:                Wed, 13 Mar 2019   Pseudo R-squ.:                 0.06499\n",
       "Time:                        14:01:03   Log-Likelihood:                -15005.\n",
       "converged:                       True   LL-Null:                       -16048.\n",
       "                                        LLR p-value:                     0.000\n",
       "==============================================================================================\n",
       "                                 coef    std err          z      P>|z|      [0.025      0.975]\n",
       "----------------------------------------------------------------------------------------------\n",
       "numbervmailmessages           -0.0998      0.018     -5.464      0.000      -0.136      -0.064\n",
       "totaldaycalls                 -0.0019      0.015     -0.126      0.899      -0.032       0.028\n",
       "totaldaycharge                 0.2689      0.015     17.506      0.000       0.239       0.299\n",
       "totalevecalls                 -0.0445      0.015     -2.904      0.004      -0.074      -0.014\n",
       "totalevecharge                 0.1222      0.015      8.086      0.000       0.093       0.152\n",
       "totalnightcalls               -0.0191      0.015     -1.268      0.205      -0.049       0.010\n",
       "totalnightcharge               0.0652      0.015      4.367      0.000       0.036       0.095\n",
       "totalintlcalls                -0.0596      0.015     -3.872      0.000      -0.090      -0.029\n",
       "totalintlcharge                0.1000      0.015      6.586      0.000       0.070       0.130\n",
       "numbercustomerservicecalls     0.3348      0.014     23.956      0.000       0.307       0.362\n",
       "state_0                       -0.0238        nan        nan        nan         nan         nan\n",
       "state_1                       -0.1244        nan        nan        nan         nan         nan\n",
       "state_2                       -0.1089        nan        nan        nan         nan         nan\n",
       "state_3                       -0.4118        nan        nan        nan         nan         nan\n",
       "state_4                        0.8709        nan        nan        nan         nan         nan\n",
       "state_5                       -0.1416        nan        nan        nan         nan         nan\n",
       "state_6                        0.1939        nan        nan        nan         nan         nan\n",
       "state_7                       -0.1143        nan        nan        nan         nan         nan\n",
       "state_8                        0.1322        nan        nan        nan         nan         nan\n",
       "state_9                        0.0588        nan        nan        nan         nan         nan\n",
       "state_10                      -0.0831        nan        nan        nan         nan         nan\n",
       "state_11                      -0.7784        nan        nan        nan         nan         nan\n",
       "state_12                      -0.0520        nan        nan        nan         nan         nan\n",
       "state_13                      -0.2355        nan        nan        nan         nan         nan\n",
       "state_14                       0.0123        nan        nan        nan         nan         nan\n",
       "state_15                       0.1229        nan        nan        nan         nan         nan\n",
       "state_16                       0.2117        nan        nan        nan         nan         nan\n",
       "state_17                       0.0590        nan        nan        nan         nan         nan\n",
       "state_18                      -0.1751        nan        nan        nan         nan         nan\n",
       "state_19                       0.3239        nan        nan        nan         nan         nan\n",
       "state_20                       0.2497        nan        nan        nan         nan         nan\n",
       "state_21                       0.0957        nan        nan        nan         nan         nan\n",
       "state_22                       0.0662        nan        nan        nan         nan         nan\n",
       "state_23                      -0.0654        nan        nan        nan         nan         nan\n",
       "state_24                       0.1457        nan        nan        nan         nan         nan\n",
       "state_25                       0.0244        nan        nan        nan         nan         nan\n",
       "state_26                       0.2754        nan        nan        nan         nan         nan\n",
       "state_27                       0.0205        nan        nan        nan         nan         nan\n",
       "state_28                      -0.6684        nan        nan        nan         nan         nan\n",
       "state_29                      -0.4013        nan        nan        nan         nan         nan\n",
       "state_30                      -0.5218        nan        nan        nan         nan         nan\n",
       "state_31                       0.2927        nan        nan        nan         nan         nan\n",
       "state_32                      -0.2077        nan        nan        nan         nan         nan\n",
       "state_33                       0.0151        nan        nan        nan         nan         nan\n",
       "state_34                       0.2800        nan        nan        nan         nan         nan\n",
       "state_35                       0.0944        nan        nan        nan         nan         nan\n",
       "state_36                       0.1800        nan        nan        nan         nan         nan\n",
       "state_37                      -0.0416        nan        nan        nan         nan         nan\n",
       "state_38                      -0.6244        nan        nan        nan         nan         nan\n",
       "state_39                      -0.4150        nan        nan        nan         nan         nan\n",
       "state_40                      -0.2372        nan        nan        nan         nan         nan\n",
       "state_41                       0.0777        nan        nan        nan         nan         nan\n",
       "state_42                       0.4091        nan        nan        nan         nan         nan\n",
       "state_43                       0.0792        nan        nan        nan         nan         nan\n",
       "state_44                       0.0240        nan        nan        nan         nan         nan\n",
       "state_45                      -0.4574        nan        nan        nan         nan         nan\n",
       "state_46                      -0.0150        nan        nan        nan         nan         nan\n",
       "state_47                       0.4523        nan        nan        nan         nan         nan\n",
       "state_48                      -0.5445        nan        nan        nan         nan         nan\n",
       "state_49                       0.3352        nan        nan        nan         nan         nan\n",
       "state_50                      -0.3548        nan        nan        nan         nan         nan\n",
       "internationalplan_0           -1.3346        nan        nan        nan         nan         nan\n",
       "internationalplan_1           -0.3661        nan        nan        nan         nan         nan\n",
       "voicemailplan_0               -0.6776   4.01e+05  -1.69e-06      1.000   -7.86e+05    7.86e+05\n",
       "voicemailplan_1               -1.0231   4.01e+05  -2.55e-06      1.000   -7.86e+05    7.86e+05\n",
       "==============================================================================================\n",
       "\"\"\""
      ]
     },
     "execution_count": 313,
     "metadata": {},
     "output_type": "execute_result"
    }
   ],
   "source": [
    "logit.summary()"
   ]
  },
  {
   "cell_type": "code",
   "execution_count": 315,
   "metadata": {},
   "outputs": [
    {
     "name": "stderr",
     "output_type": "stream",
     "text": [
      "C:\\Users\\admin\\Anaconda3\\lib\\site-packages\\ipykernel_launcher.py:2: SettingWithCopyWarning: \n",
      "A value is trying to be set on a copy of a slice from a DataFrame.\n",
      "Try using .loc[row_indexer,col_indexer] = value instead\n",
      "\n",
      "See the caveats in the documentation: http://pandas.pydata.org/pandas-docs/stable/indexing.html#indexing-view-versus-copy\n",
      "  \n"
     ]
    }
   ],
   "source": [
    "#Predict test data\n",
    "test['Actual_prob'] = logit.predict(test[train_cols])"
   ]
  },
  {
   "cell_type": "code",
   "execution_count": 316,
   "metadata": {},
   "outputs": [
    {
     "name": "stderr",
     "output_type": "stream",
     "text": [
      "C:\\Users\\admin\\Anaconda3\\lib\\site-packages\\ipykernel_launcher.py:1: SettingWithCopyWarning: \n",
      "A value is trying to be set on a copy of a slice from a DataFrame.\n",
      "Try using .loc[row_indexer,col_indexer] = value instead\n",
      "\n",
      "See the caveats in the documentation: http://pandas.pydata.org/pandas-docs/stable/indexing.html#indexing-view-versus-copy\n",
      "  \"\"\"Entry point for launching an IPython kernel.\n",
      "C:\\Users\\admin\\Anaconda3\\lib\\site-packages\\pandas\\core\\indexing.py:543: SettingWithCopyWarning: \n",
      "A value is trying to be set on a copy of a slice from a DataFrame.\n",
      "Try using .loc[row_indexer,col_indexer] = value instead\n",
      "\n",
      "See the caveats in the documentation: http://pandas.pydata.org/pandas-docs/stable/indexing.html#indexing-view-versus-copy\n",
      "  self.obj[item] = s\n"
     ]
    }
   ],
   "source": [
    "test['ActualVal'] = 1\n",
    "test.loc[test.Actual_prob < 0.5, 'ActualVal'] = 0"
   ]
  },
  {
   "cell_type": "code",
   "execution_count": 303,
   "metadata": {
    "scrolled": false
   },
   "outputs": [
    {
     "data": {
      "text/html": [
       "<div>\n",
       "<style scoped>\n",
       "    .dataframe tbody tr th:only-of-type {\n",
       "        vertical-align: middle;\n",
       "    }\n",
       "\n",
       "    .dataframe tbody tr th {\n",
       "        vertical-align: top;\n",
       "    }\n",
       "\n",
       "    .dataframe thead th {\n",
       "        text-align: right;\n",
       "    }\n",
       "</style>\n",
       "<table border=\"1\" class=\"dataframe\">\n",
       "  <thead>\n",
       "    <tr style=\"text-align: right;\">\n",
       "      <th>ActualVal</th>\n",
       "      <th>0</th>\n",
       "      <th>1</th>\n",
       "    </tr>\n",
       "    <tr>\n",
       "      <th>Churn</th>\n",
       "      <th></th>\n",
       "      <th></th>\n",
       "    </tr>\n",
       "  </thead>\n",
       "  <tbody>\n",
       "    <tr>\n",
       "      <th>0</th>\n",
       "      <td>11954</td>\n",
       "      <td>19</td>\n",
       "    </tr>\n",
       "    <tr>\n",
       "      <th>1</th>\n",
       "      <td>1790</td>\n",
       "      <td>20</td>\n",
       "    </tr>\n",
       "  </tbody>\n",
       "</table>\n",
       "</div>"
      ],
      "text/plain": [
       "ActualVal      0   1\n",
       "Churn               \n",
       "0          11954  19\n",
       "1           1790  20"
      ]
     },
     "execution_count": 303,
     "metadata": {},
     "output_type": "execute_result"
    }
   ],
   "source": [
    "#Build confusion matrix\n",
    "CM = pd.crosstab(test['Churn'], test['ActualVal'])\n",
    "\n",
    "#let us save TP, TN, FP, FN\n",
    "TN = CM.iloc[0,0]\n",
    "FN = CM.iloc[1,0]\n",
    "TP = CM.iloc[1,1]\n",
    "FP = CM.iloc[0,1]\n",
    "\n",
    "CM"
   ]
  },
  {
   "cell_type": "code",
   "execution_count": 304,
   "metadata": {},
   "outputs": [
    {
     "name": "stdout",
     "output_type": "stream",
     "text": [
      "Accuracy-  86.8751360371472\n",
      "FNR-  98.89502762430939\n",
      "Sensitivity/Recall/TPR-   51.28205128205128\n"
     ]
    }
   ],
   "source": [
    "print('Accuracy- ',((TN+TP)/(TN+TP+FN+FP))*100)\n",
    "print('FNR- ',((FN)/(TP+FN))*100)\n",
    "print('Sensitivity/Recall/TPR-  ',((TP)/(TP+FP))*100)"
   ]
  },
  {
   "cell_type": "markdown",
   "metadata": {},
   "source": [
    "## K- nearest neighbor"
   ]
  },
  {
   "cell_type": "code",
   "execution_count": 305,
   "metadata": {},
   "outputs": [],
   "source": [
    "#KNN implementation\n",
    "from sklearn.neighbors import KNeighborsClassifier\n",
    "\n",
    "KNN_model = KNeighborsClassifier(n_neighbors = 9).fit(X_train, y_train)"
   ]
  },
  {
   "cell_type": "code",
   "execution_count": 306,
   "metadata": {},
   "outputs": [],
   "source": [
    "#predict test cases\n",
    "KNN_Predictions = KNN_model.predict(X_test)"
   ]
  },
  {
   "cell_type": "code",
   "execution_count": 307,
   "metadata": {},
   "outputs": [
    {
     "data": {
      "text/html": [
       "<div>\n",
       "<style scoped>\n",
       "    .dataframe tbody tr th:only-of-type {\n",
       "        vertical-align: middle;\n",
       "    }\n",
       "\n",
       "    .dataframe tbody tr th {\n",
       "        vertical-align: top;\n",
       "    }\n",
       "\n",
       "    .dataframe thead th {\n",
       "        text-align: right;\n",
       "    }\n",
       "</style>\n",
       "<table border=\"1\" class=\"dataframe\">\n",
       "  <thead>\n",
       "    <tr style=\"text-align: right;\">\n",
       "      <th>col_0</th>\n",
       "      <th>No</th>\n",
       "      <th>Yes</th>\n",
       "    </tr>\n",
       "    <tr>\n",
       "      <th>row_0</th>\n",
       "      <th></th>\n",
       "      <th></th>\n",
       "    </tr>\n",
       "  </thead>\n",
       "  <tbody>\n",
       "    <tr>\n",
       "      <th>No</th>\n",
       "      <td>1069</td>\n",
       "      <td>1</td>\n",
       "    </tr>\n",
       "    <tr>\n",
       "      <th>Yes</th>\n",
       "      <td>165</td>\n",
       "      <td>15</td>\n",
       "    </tr>\n",
       "  </tbody>\n",
       "</table>\n",
       "</div>"
      ],
      "text/plain": [
       "col_0    No  Yes\n",
       "row_0           \n",
       "No     1069    1\n",
       "Yes     165   15"
      ]
     },
     "execution_count": 307,
     "metadata": {},
     "output_type": "execute_result"
    }
   ],
   "source": [
    "#Build confusion matrix\n",
    "CM = pd.crosstab(y_test, KNN_Predictions)\n",
    "\n",
    "#let us save TP, TN, FP, FN\n",
    "TN = CM.iloc[0,0]\n",
    "FN = CM.iloc[1,0]\n",
    "TP = CM.iloc[1,1]\n",
    "FP = CM.iloc[0,1]\n",
    "\n",
    "CM"
   ]
  },
  {
   "cell_type": "code",
   "execution_count": 308,
   "metadata": {},
   "outputs": [
    {
     "name": "stdout",
     "output_type": "stream",
     "text": [
      "Accuracy-  86.72\n",
      "FNR-  91.66666666666666\n",
      "Sensitivity/Recall/TPR-   93.75\n"
     ]
    }
   ],
   "source": [
    "print('Accuracy- ',((TN+TP)/(TN+TP+FN+FP))*100)\n",
    "print('FNR- ',((FN)/(TP+FN))*100)\n",
    "print('Sensitivity/Recall/TPR-  ',((TP)/(TP+FP))*100)"
   ]
  },
  {
   "cell_type": "markdown",
   "metadata": {},
   "source": [
    "## Naive Bayes"
   ]
  },
  {
   "cell_type": "code",
   "execution_count": 309,
   "metadata": {},
   "outputs": [],
   "source": [
    "#Naive Bayes\n",
    "from sklearn.naive_bayes import GaussianNB\n",
    "\n",
    "#Naive Bayes implementation\n",
    "NB_model = GaussianNB().fit(X_train, y_train)"
   ]
  },
  {
   "cell_type": "code",
   "execution_count": 310,
   "metadata": {},
   "outputs": [],
   "source": [
    "#predict test cases\n",
    "NB_Predictions = NB_model.predict(X_test)"
   ]
  },
  {
   "cell_type": "code",
   "execution_count": 311,
   "metadata": {},
   "outputs": [
    {
     "data": {
      "text/html": [
       "<div>\n",
       "<style scoped>\n",
       "    .dataframe tbody tr th:only-of-type {\n",
       "        vertical-align: middle;\n",
       "    }\n",
       "\n",
       "    .dataframe tbody tr th {\n",
       "        vertical-align: top;\n",
       "    }\n",
       "\n",
       "    .dataframe thead th {\n",
       "        text-align: right;\n",
       "    }\n",
       "</style>\n",
       "<table border=\"1\" class=\"dataframe\">\n",
       "  <thead>\n",
       "    <tr style=\"text-align: right;\">\n",
       "      <th>col_0</th>\n",
       "      <th>No</th>\n",
       "      <th>Yes</th>\n",
       "    </tr>\n",
       "    <tr>\n",
       "      <th>row_0</th>\n",
       "      <th></th>\n",
       "      <th></th>\n",
       "    </tr>\n",
       "  </thead>\n",
       "  <tbody>\n",
       "    <tr>\n",
       "      <th>No</th>\n",
       "      <td>997</td>\n",
       "      <td>73</td>\n",
       "    </tr>\n",
       "    <tr>\n",
       "      <th>Yes</th>\n",
       "      <td>97</td>\n",
       "      <td>83</td>\n",
       "    </tr>\n",
       "  </tbody>\n",
       "</table>\n",
       "</div>"
      ],
      "text/plain": [
       "col_0   No  Yes\n",
       "row_0          \n",
       "No     997   73\n",
       "Yes     97   83"
      ]
     },
     "execution_count": 311,
     "metadata": {},
     "output_type": "execute_result"
    }
   ],
   "source": [
    "#Build confusion matrix\n",
    "CM = pd.crosstab(y_test, NB_Predictions)\n",
    "\n",
    "#let us save TP, TN, FP, FN\n",
    "TN = CM.iloc[0,0]\n",
    "FN = CM.iloc[1,0]\n",
    "TP = CM.iloc[1,1]\n",
    "FP = CM.iloc[0,1]\n",
    "\n",
    "CM"
   ]
  },
  {
   "cell_type": "code",
   "execution_count": 312,
   "metadata": {},
   "outputs": [
    {
     "name": "stdout",
     "output_type": "stream",
     "text": [
      "Accuracy-  86.4\n",
      "FNR-  53.888888888888886\n",
      "Sensitivity/Recall/TPR-   53.205128205128204\n"
     ]
    }
   ],
   "source": [
    "print('Accuracy- ',((TN+TP)/(TN+TP+FN+FP))*100)\n",
    "print('FNR- ',((FN)/(TP+FN))*100)\n",
    "print('Sensitivity/Recall/TPR-  ',((TP)/(TP+FP))*100)"
   ]
  },
  {
   "cell_type": "code",
   "execution_count": null,
   "metadata": {},
   "outputs": [],
   "source": []
  }
 ],
 "metadata": {
  "kernelspec": {
   "display_name": "Python 3",
   "language": "python",
   "name": "python3"
  },
  "language_info": {
   "codemirror_mode": {
    "name": "ipython",
    "version": 3
   },
   "file_extension": ".py",
   "mimetype": "text/x-python",
   "name": "python",
   "nbconvert_exporter": "python",
   "pygments_lexer": "ipython3",
   "version": "3.6.8"
  }
 },
 "nbformat": 4,
 "nbformat_minor": 2
}
